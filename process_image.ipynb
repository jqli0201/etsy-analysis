{
  "nbformat": 4,
  "nbformat_minor": 0,
  "metadata": {
    "colab": {
      "name": "process_image.ipynb",
      "provenance": [],
      "collapsed_sections": []
    },
    "kernelspec": {
      "name": "python3",
      "display_name": "Python 3"
    },
    "language_info": {
      "name": "python"
    }
  },
  "cells": [
    {
      "cell_type": "markdown",
      "metadata": {
        "id": "zcYcpVHsTfp-"
      },
      "source": [
        "## Load Dataset and Packages"
      ]
    },
    {
      "cell_type": "code",
      "metadata": {
        "colab": {
          "base_uri": "https://localhost:8080/"
        },
        "id": "dXsmVodR8SUz",
        "outputId": "f39d9278-b877-4fe4-b090-6fe9a6df28eb"
      },
      "source": [
        "from google.colab import drive \n",
        "drive.mount('/content/gdrive')\n",
        "import pandas as pd \n",
        "df=pd.read_csv('gdrive/My Drive/summer.csv')"
      ],
      "execution_count": null,
      "outputs": [
        {
          "output_type": "stream",
          "name": "stdout",
          "text": [
            "Mounted at /content/gdrive\n"
          ]
        }
      ]
    },
    {
      "cell_type": "code",
      "metadata": {
        "colab": {
          "base_uri": "https://localhost:8080/"
        },
        "id": "vV_d0z2zPOnH",
        "outputId": "df076072-0dcc-4eae-f6ac-af8170dbedb2"
      },
      "source": [
        "import nltk\n",
        "nltk.download('punkt')\n",
        "nltk.download('stopwords')\n",
        "nltk.download('wordnet')"
      ],
      "execution_count": null,
      "outputs": [
        {
          "output_type": "stream",
          "name": "stdout",
          "text": [
            "[nltk_data] Downloading package punkt to /root/nltk_data...\n",
            "[nltk_data]   Unzipping tokenizers/punkt.zip.\n",
            "[nltk_data] Downloading package stopwords to /root/nltk_data...\n",
            "[nltk_data]   Unzipping corpora/stopwords.zip.\n",
            "[nltk_data] Downloading package wordnet to /root/nltk_data...\n",
            "[nltk_data]   Unzipping corpora/wordnet.zip.\n"
          ]
        },
        {
          "output_type": "execute_result",
          "data": {
            "text/plain": [
              "True"
            ]
          },
          "metadata": {},
          "execution_count": 2
        }
      ]
    },
    {
      "cell_type": "code",
      "metadata": {
        "id": "mtLKS_nBM3d9"
      },
      "source": [
        "# loading in all the essentials for data manipulation\n",
        "import pandas as pd\n",
        "import numpy as np\n",
        "#load inthe NTLK stopwords to remove articles, preposition and other words that are not actionable\n",
        "from nltk.corpus import stopwords\n",
        "# This allows to create individual objects from a bog of words\n",
        "from nltk.tokenize import word_tokenize\n",
        "# Lemmatizer helps to reduce words to the base form\n",
        "from nltk.stem import WordNetLemmatizer\n",
        "# Ngrams allows to group words in common pairs or trigrams..etc\n",
        "from nltk import ngrams\n",
        "# We can use counter to count the objects\n",
        "from collections import Counter\n",
        "# This is our visual library\n",
        "import seaborn as sns\n",
        "import matplotlib.pyplot as plt\n",
        "from nltk.tokenize import sent_tokenize, word_tokenize\n",
        "import gensim\n",
        "from gensim.models import Word2Vec"
      ],
      "execution_count": null,
      "outputs": []
    },
    {
      "cell_type": "markdown",
      "metadata": {
        "id": "YS3nVsuXR2UD"
      },
      "source": [
        "#Feature Engineering\n"
      ]
    },
    {
      "cell_type": "markdown",
      "metadata": {
        "id": "ZImxgamuzm4r"
      },
      "source": [
        "## Metadata"
      ]
    },
    {
      "cell_type": "markdown",
      "metadata": {
        "id": "3PIjPTSPtXaS"
      },
      "source": [
        "Product Color"
      ]
    },
    {
      "cell_type": "code",
      "metadata": {
        "id": "7BXBfJ0aO01D"
      },
      "source": [
        "def main_color(s):\n",
        "  main_color = {\"red\":\"red\", \"white\":\"white\", \"pink\":\"pink\", \"yellow\":\"yellow\", \"green\":\"green\", \"blue\":\"blue\", \"wine\":\"red\", \"burgundy\":\"red\", \"black\":\"black\", \"navy\":\"navy\", \"orange\":\"orange\", \n",
        "  \"rose\":\"pink\", \"gray\":\"gray\", \"grey\":\"gray\", \"purple\":\"purple\", \"violet\":\"purple\", \"army\":\"green\", \"leopard\":\"orange\", \"ivory\":\"white\", \n",
        "  \"brown\":\"brown\", \"coffee\":\"brown\", \"camel\":\"beige\", \"tan\":\"brown\", \"nude\":\"beige\", \"khaki\":\"khaki\", \"apricot\":\"yellow\", \"camouflage\":\"green\", \"jasper\":\"red\"}  # ordered by importance\n",
        "  for key, value in main_color.items():\n",
        "    if key in s:\n",
        "      return value\n",
        "  return \"others\"\n",
        "product_color = df[\"product_color\"]\n",
        "product_color = [s.lower() if type(s) is str else 'nan' for s in product_color]\n",
        "product_color = [main_color(s) for s in product_color]\n",
        "from matplotlib import colors\n",
        "product_color = [(-0.1,-0.1,-0.1,-0.1) if s == \"others\" else colors.to_rgba(s) for s in product_color]"
      ],
      "execution_count": null,
      "outputs": []
    },
    {
      "cell_type": "code",
      "metadata": {
        "id": "IulAMWclr8Rj"
      },
      "source": [
        "df['product_color_rgb'] = [np.array(t) for t in product_color]"
      ],
      "execution_count": null,
      "outputs": []
    },
    {
      "cell_type": "markdown",
      "metadata": {
        "id": "h7eg-0EjsHZ9"
      },
      "source": [
        "Log Prices"
      ]
    },
    {
      "cell_type": "code",
      "metadata": {
        "id": "GQqk07vJVX02"
      },
      "source": [
        "df['log_price'] = [np.log(p) for p in df[\"price\"]]\n",
        "df['log_retail_price'] = [np.log(p) for p in df[\"retail_price\"]]"
      ],
      "execution_count": null,
      "outputs": []
    },
    {
      "cell_type": "markdown",
      "metadata": {
        "id": "y4TNdGUewrH2"
      },
      "source": [
        "Log Merchant Rating Count"
      ]
    },
    {
      "cell_type": "code",
      "metadata": {
        "colab": {
          "base_uri": "https://localhost:8080/"
        },
        "id": "sqKLQ7JdwtEv",
        "outputId": "69243ef1-4217-4578-9713-41bbede79319"
      },
      "source": [
        "df['log_merchant_rating_count'] = np.log(df['merchant_rating_count'])"
      ],
      "execution_count": null,
      "outputs": [
        {
          "output_type": "stream",
          "name": "stderr",
          "text": [
            "/usr/local/lib/python3.7/dist-packages/pandas/core/series.py:726: RuntimeWarning: divide by zero encountered in log\n",
            "  result = getattr(ufunc, method)(*inputs, **kwargs)\n"
          ]
        }
      ]
    },
    {
      "cell_type": "markdown",
      "metadata": {
        "id": "r8v1Ha38taLL"
      },
      "source": [
        "Urgent Text"
      ]
    },
    {
      "cell_type": "code",
      "metadata": {
        "id": "YvQzOmTFtZMB"
      },
      "source": [
        "df['urgent'] = [1 if s == \"Quantité limitée !\" else 0 for s in df[\"urgency_text\"]]"
      ],
      "execution_count": null,
      "outputs": []
    },
    {
      "cell_type": "markdown",
      "metadata": {
        "id": "SvrtDsYSXh6H"
      },
      "source": [
        "## Label y (Low / High Sales)"
      ]
    },
    {
      "cell_type": "code",
      "metadata": {
        "id": "eqHvO7UcXl0z"
      },
      "source": [
        "label = [1 if sales > 100 else 0 for sales in df[\"units_sold\"]]\n",
        "df['high_sale'] = label"
      ],
      "execution_count": null,
      "outputs": []
    },
    {
      "cell_type": "markdown",
      "metadata": {
        "id": "BHyTBp3NsTvk"
      },
      "source": [
        "## Image Model"
      ]
    },
    {
      "cell_type": "code",
      "metadata": {
        "id": "vZeBfel1uXBW"
      },
      "source": [
        "from PIL import Image\n",
        "from io import BytesIO\n",
        "import urllib.request\n",
        "pd.set_option('display.max_colwidth', None)\n",
        "\n",
        "# load the image with urllib + BytesIO\n",
        "pixel = [np.array(Image.open(BytesIO(urllib.request.urlopen(url).read())).resize((128,128),Image.ANTIALIAS)) for url in df[\"product_picture\"]]\n",
        "df[\"image_pixel\"] = pixel"
      ],
      "execution_count": null,
      "outputs": []
    },
    {
      "cell_type": "code",
      "metadata": {
        "id": "WX_ycDutfoxS"
      },
      "source": [
        "df = df[[\"image_pixel\", \"high_sale\"]]\n",
        "df.to_pickle(\"image_sale.pkl\")"
      ],
      "execution_count": null,
      "outputs": []
    },
    {
      "cell_type": "code",
      "metadata": {
        "id": "hFIVI8k3OMrZ"
      },
      "source": [
        "X = data_rf['image_pixel']\n",
        "y = data_rf['high_sale']\n",
        "from sklearn.model_selection import train_test_split\n",
        "# Split into 0.75:0.125:0.125\n",
        "X_train, X_test, y_train, y_test = train_test_split(X, y, test_size=0.125, random_state=42)\n",
        "X_train, X_dev, y_train, y_dev = train_test_split(X_train, y_train, test_size=0.14286, random_state=42)"
      ],
      "execution_count": null,
      "outputs": []
    }
  ]
}