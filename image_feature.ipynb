{
  "nbformat": 4,
  "nbformat_minor": 0,
  "metadata": {
    "accelerator": "GPU",
    "colab": {
      "name": "image_feature.ipynb",
      "provenance": [],
      "collapsed_sections": [],
      "machine_shape": "hm"
    },
    "kernelspec": {
      "display_name": "Python 3",
      "name": "python3"
    },
    "language_info": {
      "name": "python"
    }
  },
  "cells": [
    {
      "cell_type": "code",
      "metadata": {
        "colab": {
          "base_uri": "https://localhost:8080/"
        },
        "id": "hkTJlHqUh9P4",
        "outputId": "b0576e78-1077-4db0-efb4-4df2d6c1868d"
      },
      "source": [
        "import pandas as pd \n",
        "import nltk\n",
        "import numpy as np\n",
        "#load inthe NTLK stopwords to remove articles, preposition and other words that are not actionable\n",
        "from nltk.corpus import stopwords\n",
        "# This allows to create individual objects from a bog of words\n",
        "from nltk.tokenize import word_tokenize, sent_tokenize\n",
        "# Lemmatizer helps to reduce words to the base form\n",
        "from nltk.stem import WordNetLemmatizer\n",
        "from gensim.models import Word2Vec\n",
        "from gensim.models.doc2vec import Doc2Vec, TaggedDocument\n",
        "from google.colab import drive \n",
        "drive.mount('/content/gdrive')\n",
        "df=pd.read_csv('gdrive/My Drive/summer.csv')\n",
        "nltk.download('punkt')\n",
        "nltk.download('stopwords')\n",
        "nltk.download('wordnet')"
      ],
      "execution_count": null,
      "outputs": [
        {
          "output_type": "stream",
          "name": "stdout",
          "text": [
            "Mounted at /content/gdrive\n",
            "[nltk_data] Downloading package punkt to /root/nltk_data...\n",
            "[nltk_data]   Unzipping tokenizers/punkt.zip.\n",
            "[nltk_data] Downloading package stopwords to /root/nltk_data...\n",
            "[nltk_data]   Unzipping corpora/stopwords.zip.\n",
            "[nltk_data] Downloading package wordnet to /root/nltk_data...\n",
            "[nltk_data]   Unzipping corpora/wordnet.zip.\n"
          ]
        },
        {
          "output_type": "execute_result",
          "data": {
            "text/plain": [
              "True"
            ]
          },
          "metadata": {},
          "execution_count": 1
        }
      ]
    },
    {
      "cell_type": "code",
      "metadata": {
        "id": "2yMVG2v8iJOT"
      },
      "source": [
        "def process_sentence(sentence):\n",
        "    new_tokens = word_tokenize(sentence)\n",
        "    new_tokens = [t.lower() for t in new_tokens]\n",
        "    new_tokens = [t for t in new_tokens if t not in stopwords.words('english')]\n",
        "    new_tokens = [t for t in new_tokens if t.isalpha()]\n",
        "    lemmatizer = WordNetLemmatizer()\n",
        "    new_tokens =[lemmatizer.lemmatize(t) for t in new_tokens]\n",
        "    return \" \".join(new_tokens)"
      ],
      "execution_count": null,
      "outputs": []
    },
    {
      "cell_type": "code",
      "metadata": {
        "id": "WT5b6G3RiORf"
      },
      "source": [
        "titles = df['title_orig'].tolist()\n",
        "tokens = [process_sentence(t) for t in titles]\n",
        "df['title_pre'] = tokens"
      ],
      "execution_count": null,
      "outputs": []
    },
    {
      "cell_type": "code",
      "metadata": {
        "id": "ZzhwPczqTKt1"
      },
      "source": [
        "from sklearn.feature_extraction.text import TfidfVectorizer\n",
        "vectorizer = TfidfVectorizer()\n",
        "vectors = vectorizer.fit_transform(df['title_pre'])"
      ],
      "execution_count": null,
      "outputs": []
    },
    {
      "cell_type": "code",
      "metadata": {
        "colab": {
          "base_uri": "https://localhost:8080/"
        },
        "id": "_nZexKFiT9IQ",
        "outputId": "75c86be4-b5f6-4e60-8daf-c9ccde3374df"
      },
      "source": [
        "feature_names = vectorizer.get_feature_names()\n",
        "dense = vectors.todense()\n",
        "denselist = dense.tolist()\n",
        "tfidf = pd.DataFrame(denselist, columns=feature_names)\n",
        "tfidf_list = tfidf.values"
      ],
      "execution_count": null,
      "outputs": [
        {
          "output_type": "stream",
          "name": "stderr",
          "text": [
            "/usr/local/lib/python3.7/dist-packages/sklearn/utils/deprecation.py:87: FutureWarning: Function get_feature_names is deprecated; get_feature_names is deprecated in 1.0 and will be removed in 1.2. Please use get_feature_names_out instead.\n",
            "  warnings.warn(msg, category=FutureWarning)\n"
          ]
        }
      ]
    },
    {
      "cell_type": "code",
      "metadata": {
        "id": "BJseMtmnUS5Q"
      },
      "source": [
        "from PIL import Image\n",
        "from io import BytesIO\n",
        "import urllib.request\n",
        "pd.set_option('display.max_colwidth', None)\n",
        "\n",
        "# load the image with urllib + BytesIO\n",
        "pixel = [np.array(Image.open(BytesIO(urllib.request.urlopen(url).read())).resize((224,224),Image.ANTIALIAS)) for url in df[\"product_picture\"]]\n",
        "df[\"image_pixel\"] = pixel"
      ],
      "execution_count": null,
      "outputs": []
    },
    {
      "cell_type": "code",
      "metadata": {
        "id": "FJ6TllmWUtw6"
      },
      "source": [
        "def main_color(s):\n",
        "  main_color = {\"red\":\"red\", \"white\":\"white\", \"pink\":\"pink\", \"yellow\":\"yellow\", \"green\":\"green\", \"blue\":\"blue\", \"wine\":\"red\", \"burgundy\":\"red\", \"black\":\"black\", \"navy\":\"navy\", \"orange\":\"orange\", \n",
        "  \"rose\":\"pink\", \"gray\":\"gray\", \"grey\":\"gray\", \"purple\":\"purple\", \"violet\":\"purple\", \"army\":\"green\", \"leopard\":\"orange\", \"ivory\":\"white\", \n",
        "  \"brown\":\"brown\", \"coffee\":\"brown\", \"camel\":\"beige\", \"tan\":\"brown\", \"nude\":\"beige\", \"khaki\":\"khaki\", \"apricot\":\"yellow\", \"camouflage\":\"green\", \"jasper\":\"red\"}  # ordered by importance\n",
        "  for key, value in main_color.items():\n",
        "    if key in s:\n",
        "      return value\n",
        "  return \"others\"\n",
        "product_color = df[\"product_color\"]\n",
        "product_color = [s.lower() if type(s) is str else 'nan' for s in product_color]\n",
        "product_color = [main_color(s) for s in product_color]"
      ],
      "execution_count": null,
      "outputs": []
    },
    {
      "cell_type": "code",
      "metadata": {
        "id": "32UkGyR2ViTd"
      },
      "source": [
        "from matplotlib import colors\n",
        "avg_list = []\n",
        "for s in product_color:\n",
        "  if s != \"others\":\n",
        "    avg_list.append(np.array(colors.to_rgb(s)))\n",
        "average_color = tuple(np.array(avg_list).mean(0))\n",
        "product_color = [average_color if s == \"others\" else colors.to_rgb(s) for s in product_color]\n",
        "df['product_color_rgb'] = [np.array(t) for t in product_color]"
      ],
      "execution_count": null,
      "outputs": []
    },
    {
      "cell_type": "code",
      "metadata": {
        "id": "pjN7p1taXFWp"
      },
      "source": [
        "df['log_price'] = [np.log(p) for p in df[\"price\"]]\n",
        "df['log_retail_price'] = [np.log(p) for p in df[\"retail_price\"]]\n",
        "df[\"discount_ratio\"] = [df[\"price\"][i]/df[\"retail_price\"][i] for i in range(len(df[\"price\"]))]\n",
        "df['urgent'] = [1 if s == \"Quantité limitée !\" else 0 for s in df[\"urgency_text\"]]\n",
        "label = [1 if sales > 400 else 0 for sales in df[\"units_sold\"]]\n",
        "df['high_sale'] = label\n",
        "df[\"tfidf\"] = [v for v in tfidf_list]"
      ],
      "execution_count": null,
      "outputs": []
    },
    {
      "cell_type": "code",
      "metadata": {
        "colab": {
          "base_uri": "https://localhost:8080/"
        },
        "id": "P2CRCmb-XTKE",
        "outputId": "3304debf-6bd4-4d86-c221-b780efb8ae12"
      },
      "source": [
        "df = df[[\"tfidf\", \"image_pixel\", \"log_price\", \"log_retail_price\", \"discount_ratio\", \"uses_ad_boosts\", \"badges_count\", \"badge_local_product\", \"badge_product_quality\", \"badge_fast_shipping\", \"shipping_option_price\", \"shipping_is_express\", \"countries_shipped_to\", \"inventory_total\", \"product_color_rgb\", \"urgent\", \"high_sale\"]]\n",
        "rgb = df[\"product_color_rgb\"]\n",
        "rgb = np.stack(rgb.values, axis=0)\n",
        "for i in range(3):\n",
        "  df[\"product_color_rgb\"+str(i)] = rgb[:,i]"
      ],
      "execution_count": null,
      "outputs": [
        {
          "output_type": "stream",
          "name": "stderr",
          "text": [
            "/usr/local/lib/python3.7/dist-packages/ipykernel_launcher.py:5: SettingWithCopyWarning: \n",
            "A value is trying to be set on a copy of a slice from a DataFrame.\n",
            "Try using .loc[row_indexer,col_indexer] = value instead\n",
            "\n",
            "See the caveats in the documentation: https://pandas.pydata.org/pandas-docs/stable/user_guide/indexing.html#returning-a-view-versus-a-copy\n",
            "  \"\"\"\n"
          ]
        }
      ]
    },
    {
      "cell_type": "code",
      "metadata": {
        "id": "gH0Bia3sdmMg"
      },
      "source": [
        "X = df[df.columns.difference([\"high_sale\", \"product_color_rgb\"])]\n",
        "y = df[\"high_sale\"]"
      ],
      "execution_count": null,
      "outputs": []
    },
    {
      "cell_type": "code",
      "metadata": {
        "colab": {
          "base_uri": "https://localhost:8080/"
        },
        "id": "pgpP0STfmIUi",
        "outputId": "dac42917-febc-4cc2-f335-6f85d5f32ff4"
      },
      "source": [
        "from sklearn.model_selection import train_test_split\n",
        "# Split into 0.75:0.125:0.125\n",
        "X_train, X_dev, y_train, y_dev = train_test_split(X, y, test_size=0.2, random_state=1)\n",
        "# X_train, X_dev, y_train, y_dev = train_test_split(X_train, y_train, test_size=0.14286, random_state=42)\n",
        "print (\"number of training examples = \" + str(X_train.shape[0]))\n",
        "print (\"number of dev examples = \" + str(X_dev.shape[0]))\n",
        "# print (\"number of test examples = \" + str(X_test.shape[0]))\n",
        "print (\"X_train shape: \" + str(X_train.shape))\n",
        "print (\"Y_train shape: \" + str(y_train.shape))\n",
        "print (\"X_dev shape: \" + str(X_dev.shape))\n",
        "print (\"Y_dev shape: \" + str(y_dev.shape))\n",
        "# print (\"X_test shape: \" + str(X_test.shape))\n",
        "# print (\"Y_test shape: \" + str(y_test.shape))"
      ],
      "execution_count": null,
      "outputs": [
        {
          "output_type": "stream",
          "name": "stdout",
          "text": [
            "number of training examples = 1258\n",
            "number of dev examples = 315\n",
            "X_train shape: (1258, 18)\n",
            "Y_train shape: (1258,)\n",
            "X_dev shape: (315, 18)\n",
            "Y_dev shape: (315,)\n"
          ]
        }
      ]
    },
    {
      "cell_type": "code",
      "metadata": {
        "colab": {
          "base_uri": "https://localhost:8080/"
        },
        "id": "aD6PD5Xrs0DA",
        "outputId": "9bf78bad-6574-47d8-815f-a7fb64f3f2c8"
      },
      "source": [
        "np.sum(np.array(y_dev))"
      ],
      "execution_count": null,
      "outputs": [
        {
          "output_type": "execute_result",
          "data": {
            "text/plain": [
              "180"
            ]
          },
          "metadata": {},
          "execution_count": 36
        }
      ]
    },
    {
      "cell_type": "code",
      "metadata": {
        "id": "JeSvWZI7nFJc"
      },
      "source": [
        "import tensorflow as tf\n",
        "def get_image_text_feature(df):\n",
        "  return np.stack(df[\"image_pixel\"].to_numpy(), axis=0), tf.expand_dims(np.stack(df[\"tfidf\"].to_numpy(), axis=0), axis=-1), df[df.columns.difference([\"image_pixel\", \"tfidf\"])]\n",
        "X_train_image, X_train_text, X_train_feature = get_image_text_feature(X_train)\n",
        "# X_test_image, X_test_text, X_test_feature = get_image_text_feature(X_test)\n",
        "X_dev_image, X_dev_text, X_dev_feature = get_image_text_feature(X_dev)"
      ],
      "execution_count": null,
      "outputs": []
    },
    {
      "cell_type": "code",
      "metadata": {
        "id": "t6A-70QWBNBb"
      },
      "source": [
        "import numpy as np\n",
        "import pandas as pd\n",
        "import matplotlib.pyplot as plt\n",
        "import os, shutil\n",
        "import cv2\n",
        "from os import listdir\n",
        "from os.path import isfile, join\n",
        "import string\n",
        "import re\n",
        "import nltk\n",
        "from keras import layers\n",
        "from keras import Input\n",
        "from keras.models import Model\n",
        "from keras import models\n",
        "import tensorflow as tf\n",
        "from keras.applications.vgg16 import VGG16\n",
        "from keras.regularizers import l2\n",
        "image_input = Input(shape=(224, 224, 3), name='image')\n",
        "vgg16 = VGG16(weights='imagenet',\n",
        "                  include_top=False,\n",
        "                  input_shape=(224, 224, 3))\n",
        "vgg16.trainable = False\n",
        "x = vgg16(image_input)\n",
        "x = tf.keras.layers.Flatten()(x)\n",
        "x = tf.keras.layers.Dense(1024, activation='relu')(x)\n",
        "x = tf.keras.layers.BatchNormalization()(x)\n",
        "x = tf.keras.layers.Dropout(0.2)(x)\n",
        "\n",
        "x = tf.keras.layers.Dense(128, activation='relu')(x)\n",
        "x = tf.keras.layers.Dropout(0.2)(x)\n",
        "x = tf.keras.layers.BatchNormalization()(x)"
      ],
      "execution_count": null,
      "outputs": []
    },
    {
      "cell_type": "code",
      "metadata": {
        "id": "7seRNZiaotS-"
      },
      "source": [
        "feature_input = Input(shape=(16,), name='feature')\n",
        "concatenated = layers.concatenate([x, feature_input], axis=-1)\n",
        "concatenated = tf.keras.layers.Dense(64, activation='relu')(concatenated)\n",
        "concatenated = tf.keras.layers.BatchNormalization()(concatenated)\n",
        "concatenated = tf.keras.layers.Dense(32, activation='relu')(concatenated)\n",
        "concatenated = tf.keras.layers.BatchNormalization()(concatenated)\n",
        "output = layers.Dense(1, activation='sigmoid')(concatenated)\n",
        "model = Model([image_input, feature_input], output)\n",
        "# Adam Optimizer Adaptive Learning Rate\n",
        "# opt = tf.keras.optimizers.Adam(learning_rate = 0.01, decay = 0.2)\n",
        "opt = tf.keras.optimizers.Adam()\n",
        "model.compile(optimizer = opt, loss='binary_crossentropy', metrics=['acc'])"
      ],
      "execution_count": null,
      "outputs": []
    },
    {
      "cell_type": "code",
      "metadata": {
        "colab": {
          "base_uri": "https://localhost:8080/"
        },
        "id": "Nd0whfEfZelk",
        "outputId": "a814daa8-6b35-41e8-f710-08e505bf29bd"
      },
      "source": [
        "model.summary()"
      ],
      "execution_count": null,
      "outputs": [
        {
          "output_type": "stream",
          "name": "stdout",
          "text": [
            "Model: \"model_2\"\n",
            "__________________________________________________________________________________________________\n",
            " Layer (type)                   Output Shape         Param #     Connected to                     \n",
            "==================================================================================================\n",
            " image (InputLayer)             [(None, 224, 224, 3  0           []                               \n",
            "                                )]                                                                \n",
            "                                                                                                  \n",
            " vgg16 (Functional)             (None, 7, 7, 512)    14714688    ['image[0][0]']                  \n",
            "                                                                                                  \n",
            " flatten_2 (Flatten)            (None, 25088)        0           ['vgg16[0][0]']                  \n",
            "                                                                                                  \n",
            " dense_10 (Dense)               (None, 1024)         25691136    ['flatten_2[0][0]']              \n",
            "                                                                                                  \n",
            " batch_normalization_8 (BatchNo  (None, 1024)        4096        ['dense_10[0][0]']               \n",
            " rmalization)                                                                                     \n",
            "                                                                                                  \n",
            " dropout_4 (Dropout)            (None, 1024)         0           ['batch_normalization_8[0][0]']  \n",
            "                                                                                                  \n",
            " dense_11 (Dense)               (None, 128)          131200      ['dropout_4[0][0]']              \n",
            "                                                                                                  \n",
            " dropout_5 (Dropout)            (None, 128)          0           ['dense_11[0][0]']               \n",
            "                                                                                                  \n",
            " batch_normalization_9 (BatchNo  (None, 128)         512         ['dropout_5[0][0]']              \n",
            " rmalization)                                                                                     \n",
            "                                                                                                  \n",
            " feature (InputLayer)           [(None, 16)]         0           []                               \n",
            "                                                                                                  \n",
            " concatenate_2 (Concatenate)    (None, 144)          0           ['batch_normalization_9[0][0]',  \n",
            "                                                                  'feature[0][0]']                \n",
            "                                                                                                  \n",
            " dense_12 (Dense)               (None, 64)           9280        ['concatenate_2[0][0]']          \n",
            "                                                                                                  \n",
            " batch_normalization_10 (BatchN  (None, 64)          256         ['dense_12[0][0]']               \n",
            " ormalization)                                                                                    \n",
            "                                                                                                  \n",
            " dense_13 (Dense)               (None, 32)           2080        ['batch_normalization_10[0][0]'] \n",
            "                                                                                                  \n",
            " batch_normalization_11 (BatchN  (None, 32)          128         ['dense_13[0][0]']               \n",
            " ormalization)                                                                                    \n",
            "                                                                                                  \n",
            " dense_14 (Dense)               (None, 1)            33          ['batch_normalization_11[0][0]'] \n",
            "                                                                                                  \n",
            "==================================================================================================\n",
            "Total params: 40,553,409\n",
            "Trainable params: 25,836,225\n",
            "Non-trainable params: 14,717,184\n",
            "__________________________________________________________________________________________________\n"
          ]
        }
      ]
    },
    {
      "cell_type": "code",
      "metadata": {
        "id": "q77KoNieBTNB"
      },
      "source": [
        "EPOCHS = 150\n",
        "early_stopping = tf.keras.callbacks.EarlyStopping(\n",
        "    monitor='val_acc',\n",
        "    mode='max',\n",
        "    verbose=1,\n",
        "    patience=6\n",
        ")\n",
        "# history = model.fit(\n",
        "#     [X_train_image, X_train_text, X_train_feature],\n",
        "#     y_train,\n",
        "#     epochs=EPOCHS,\n",
        "#     validation_data=([X_dev_image, X_dev_text, X_dev_feature], y_dev),\n",
        "#     batch_size = 32,\n",
        "#     callbacks=[early_stopping])\n",
        "history = model.fit(\n",
        "    [X_train_image, X_train_feature],\n",
        "    y_train,\n",
        "    epochs=EPOCHS,\n",
        "    validation_data=([X_dev_image, X_dev_feature], y_dev),\n",
        "    batch_size = 16)"
      ],
      "execution_count": null,
      "outputs": []
    },
    {
      "cell_type": "code",
      "metadata": {
        "colab": {
          "base_uri": "https://localhost:8080/",
          "height": 295
        },
        "id": "mlOwg2h1K5mA",
        "outputId": "e5527552-b794-40f5-df43-ccabcb14f3b7"
      },
      "source": [
        "plt.plot(history.history['acc'])\n",
        "plt.plot(history.history['val_acc'])\n",
        "plt.title('model accuracy')\n",
        "plt.ylabel('accuracy')\n",
        "plt.xlabel('epoch')\n",
        "plt.legend(['train', 'val'], loc='upper left')\n",
        "plt.show()"
      ],
      "execution_count": null,
      "outputs": [
        {
          "output_type": "display_data",
          "data": {
            "image/png": "[encoded data removed]",
            "text/plain": [
              "<Figure size 432x288 with 1 Axes>"
            ]
          },
          "metadata": {
            "needs_background": "light"
          }
        }
      ]
    },
    {
      "cell_type": "code",
      "metadata": {
        "colab": {
          "base_uri": "https://localhost:8080/",
          "height": 295
        },
        "id": "KHYZbcYaK_Y6",
        "outputId": "8d0df7bc-5a7c-4b0e-8626-b7aeb7737e1f"
      },
      "source": [
        "plt.plot(history.history['loss'])\n",
        "plt.plot(history.history['val_loss'])\n",
        "plt.title('model loss')\n",
        "plt.ylabel('loss')\n",
        "plt.xlabel('epoch')\n",
        "plt.legend(['train', 'val'], loc='upper left')\n",
        "plt.show()"
      ],
      "execution_count": null,
      "outputs": [
        {
          "output_type": "display_data",
          "data": {
            "image/png": "[encoded data removed]",
            "text/plain": [
              "<Figure size 432x288 with 1 Axes>"
            ]
          },
          "metadata": {
            "needs_background": "light"
          }
        }
      ]
    }
  ]
}