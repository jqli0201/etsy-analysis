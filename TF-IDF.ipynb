{
 "cells": [
  {
   "cell_type": "code",
   "execution_count": 1,
   "id": "47ca856b",
   "metadata": {},
   "outputs": [],
   "source": [
    "import pandas as pd\n",
    "import nltk\n",
    "import numpy as np\n",
    "\n",
    "#load inthe NTLK stopwords to remove articles, preposition and other words that are not actionable\n",
    "from nltk.corpus import stopwords\n",
    "# This allows to create individual objects from a bog of words\n",
    "from nltk.tokenize import word_tokenize, sent_tokenize\n",
    "# Lemmatizer helps to reduce words to the base form\n",
    "from nltk.stem import WordNetLemmatizer\n",
    "from sklearn.feature_extraction.text import TfidfVectorizer"
   ]
  },
  {
   "cell_type": "code",
   "execution_count": 2,
   "id": "8548f0d6",
   "metadata": {},
   "outputs": [
    {
     "name": "stderr",
     "output_type": "stream",
     "text": [
      "[nltk_data] Downloading package punkt to /Users/jasmineli/nltk_data...\n",
      "[nltk_data]   Package punkt is already up-to-date!\n",
      "[nltk_data] Downloading package stopwords to\n",
      "[nltk_data]     /Users/jasmineli/nltk_data...\n",
      "[nltk_data]   Package stopwords is already up-to-date!\n",
      "[nltk_data] Downloading package wordnet to\n",
      "[nltk_data]     /Users/jasmineli/nltk_data...\n",
      "[nltk_data]   Package wordnet is already up-to-date!\n"
     ]
    },
    {
     "data": {
      "text/plain": [
       "True"
      ]
     },
     "execution_count": 2,
     "metadata": {},
     "output_type": "execute_result"
    }
   ],
   "source": [
    "df=pd.read_csv('summer-products-with-rating-and-performance_2020-08.csv')\n",
    "nltk.download('punkt')\n",
    "nltk.download('stopwords')\n",
    "nltk.download('wordnet')"
   ]
  },
  {
   "cell_type": "code",
   "execution_count": 3,
   "id": "9c1ee1be",
   "metadata": {},
   "outputs": [],
   "source": [
    "vectorizer = TfidfVectorizer()\n",
    "vectors = vectorizer.fit_transform(df['title_orig'])"
   ]
  },
  {
   "cell_type": "code",
   "execution_count": 4,
   "id": "c316164f",
   "metadata": {},
   "outputs": [
    {
     "name": "stderr",
     "output_type": "stream",
     "text": [
      "/Users/jasmineli/opt/anaconda3/envs/etsy/lib/python3.7/site-packages/sklearn/utils/deprecation.py:87: FutureWarning: Function get_feature_names is deprecated; get_feature_names is deprecated in 1.0 and will be removed in 1.2. Please use get_feature_names_out instead.\n",
      "  warnings.warn(msg, category=FutureWarning)\n"
     ]
    }
   ],
   "source": [
    "feature_names = vectorizer.get_feature_names()\n",
    "dense = vectors.todense()\n",
    "denselist = dense.tolist()\n",
    "tfidf = pd.DataFrame(denselist, columns=feature_names)"
   ]
  },
  {
   "cell_type": "code",
   "execution_count": 5,
   "id": "844d83a9",
   "metadata": {},
   "outputs": [
    {
     "name": "stdout",
     "output_type": "stream",
     "text": [
      "(1573, 1396)\n"
     ]
    }
   ],
   "source": [
    "print(tfidf.shape)"
   ]
  },
  {
   "cell_type": "code",
   "execution_count": 6,
   "id": "124ac357",
   "metadata": {},
   "outputs": [
    {
     "name": "stderr",
     "output_type": "stream",
     "text": [
      "/Users/jasmineli/opt/anaconda3/envs/etsy/lib/python3.7/site-packages/pandas/core/arraylike.py:364: RuntimeWarning: divide by zero encountered in log\n",
      "  result = getattr(ufunc, method)(*inputs, **kwargs)\n"
     ]
    }
   ],
   "source": [
    "# product color\n",
    "def main_color(s):\n",
    "  main_color = {\"red\":\"red\", \"white\":\"white\", \"pink\":\"pink\", \"yellow\":\"yellow\", \"green\":\"green\", \"blue\":\"blue\", \"wine\":\"red\", \"burgundy\":\"red\", \"black\":\"black\", \"navy\":\"navy\", \"orange\":\"orange\", \n",
    "  \"rose\":\"pink\", \"gray\":\"gray\", \"grey\":\"gray\", \"purple\":\"purple\", \"violet\":\"purple\", \"army\":\"green\", \"leopard\":\"orange\", \"ivory\":\"white\", \n",
    "  \"brown\":\"brown\", \"coffee\":\"brown\", \"camel\":\"beige\", \"tan\":\"brown\", \"nude\":\"beige\", \"khaki\":\"khaki\", \"apricot\":\"yellow\", \"camouflage\":\"green\", \"jasper\":\"red\"}  # ordered by importance\n",
    "  for key, value in main_color.items():\n",
    "    if key in s:\n",
    "        return value\n",
    "    return \"others\"\n",
    "product_color = df[\"product_color\"]\n",
    "product_color = [s.lower() if type(s) is str else 'nan' for s in product_color]\n",
    "product_color = [main_color(s) for s in product_color]\n",
    "from matplotlib import colors\n",
    "product_color = [(-0.1,-0.1,-0.1,-0.1) if s == \"others\" else colors.to_rgba(s) for s in product_color]\n",
    "\n",
    "df['product_color_rgb'] = [np.array(t) for t in product_color]\n",
    "\n",
    "# log prices\n",
    "df['log_price'] = [np.log(p) for p in df[\"price\"]]\n",
    "df['log_retail_price'] = [np.log(p) for p in df[\"retail_price\"]]\n",
    "\n",
    "# log merchant rating count\n",
    "df['log_merchant_rating_count'] = np.log(df['merchant_rating_count'])\n",
    "\n",
    "# urgent text\n",
    "df['urgent'] = [1 if s == \"Quantité limitée !\" else 0 for s in df[\"urgency_text\"]]"
   ]
  },
  {
   "cell_type": "code",
   "execution_count": 7,
   "id": "263783d5",
   "metadata": {},
   "outputs": [],
   "source": [
    "data = df[[\"log_price\", \"log_retail_price\", \"uses_ad_boosts\", \"badges_count\", \"badge_local_product\", \n",
    "           \"badge_product_quality\", \"badge_fast_shipping\", \"urgent\", \"units_sold\"]]\n",
    "df2 = pd.concat([data, tfidf], axis=1)\n",
    "label = [1 if sales > 200 else 0 for sales in data[\"units_sold\"]]\n",
    "df2['high_sale'] = label"
   ]
  },
  {
   "cell_type": "code",
   "execution_count": 8,
   "id": "273bc087",
   "metadata": {},
   "outputs": [
    {
     "name": "stdout",
     "output_type": "stream",
     "text": [
      "(1573, 1410)\n"
     ]
    }
   ],
   "source": [
    "rgb = df[\"product_color_rgb\"]\n",
    "rgb = np.stack(rgb.values, axis=0)\n",
    "for i in range(4):\n",
    "    df2[\"product_color_rgb\"+str(i)] = rgb[:,i]\n",
    "df2.replace([np.inf, -np.inf], np.nan, inplace=True)\n",
    "print(df2.shape)"
   ]
  },
  {
   "cell_type": "code",
   "execution_count": 9,
   "id": "ff28a193",
   "metadata": {},
   "outputs": [],
   "source": [
    "X = df2.loc[:, ~df2.columns.isin(['high_sale', 'units_sold'])]\n",
    "y = df2['high_sale']"
   ]
  },
  {
   "cell_type": "code",
   "execution_count": 10,
   "id": "dd196471",
   "metadata": {},
   "outputs": [],
   "source": [
    "import tensorflow as tf\n",
    "\n",
    "from tensorflow import keras\n",
    "from tensorflow.keras import layers\n",
    "from tensorflow.keras.models import Sequential\n",
    "\n",
    "from keras.layers import Input, Dense, Concatenate\n",
    "from keras.models import Model\n",
    "from keras.layers import Dense, Conv1D, MaxPooling1D, Flatten, Dropout\n",
    "from keras.callbacks import EarlyStopping\n",
    "from sklearn.model_selection import train_test_split\n",
    "\n",
    "X_train, X_test, y_train, y_test = train_test_split(X, y, test_size=0.125, random_state=42)\n",
    "X_train, X_dev, y_train, y_dev = train_test_split(X_train, y_train, test_size=0.14286, random_state=42)"
   ]
  },
  {
   "cell_type": "code",
   "execution_count": 11,
   "id": "2f1bfbe9",
   "metadata": {},
   "outputs": [
    {
     "name": "stdout",
     "output_type": "stream",
     "text": [
      "number of training examples = 1179\n",
      "number of dev examples = 197\n",
      "number of test examples = 197\n",
      "X_train shape: (1179, 1408)\n",
      "Y_train shape: (1179,)\n",
      "X_dev shape: (197, 1408)\n",
      "Y_dev shape: (197,)\n",
      "X_test shape: (197, 1408)\n",
      "Y_test shape: (197,)\n"
     ]
    }
   ],
   "source": [
    "print (\"number of training examples = \" + str(X_train.shape[0]))\n",
    "print (\"number of dev examples = \" + str(X_dev.shape[0]))\n",
    "print (\"number of test examples = \" + str(X_test.shape[0]))\n",
    "print (\"X_train shape: \" + str(X_train.shape))\n",
    "print (\"Y_train shape: \" + str(y_train.shape))\n",
    "print (\"X_dev shape: \" + str(X_dev.shape))\n",
    "print (\"Y_dev shape: \" + str(y_dev.shape))\n",
    "print (\"X_test shape: \" + str(X_test.shape))\n",
    "print (\"Y_test shape: \" + str(y_test.shape))"
   ]
  },
  {
   "cell_type": "code",
   "execution_count": 12,
   "id": "1419cb83",
   "metadata": {},
   "outputs": [
    {
     "name": "stderr",
     "output_type": "stream",
     "text": [
      "2021-11-06 16:54:01.772208: I tensorflow/core/platform/cpu_feature_guard.cc:151] This TensorFlow binary is optimized with oneAPI Deep Neural Network Library (oneDNN) to use the following CPU instructions in performance-critical operations:  AVX2 FMA\n",
      "To enable them in other operations, rebuild TensorFlow with the appropriate compiler flags.\n"
     ]
    }
   ],
   "source": [
    "# Defining hold out data for evaluation \n",
    "evals_X = X[-100:]\n",
    "evals_y = y[-100:]\n",
    "X_train = tf.expand_dims(X_train, axis=-1)\n",
    "input_shape = X_train.shape[1:]"
   ]
  },
  {
   "cell_type": "code",
   "execution_count": 13,
   "id": "0d3b28c8",
   "metadata": {},
   "outputs": [
    {
     "name": "stdout",
     "output_type": "stream",
     "text": [
      "(1408, 1)\n"
     ]
    }
   ],
   "source": [
    "print(input_shape)"
   ]
  },
  {
   "cell_type": "code",
   "execution_count": 14,
   "id": "517823da",
   "metadata": {},
   "outputs": [],
   "source": [
    "# from sklearn.linear_model import LogisticRegression\n",
    "\n",
    "# classifier = LogisticRegression()\n",
    "# classifier.fit(X_train, y_train)\n",
    "\n",
    "# score = classifier.score(evals_X, evals_y)\n",
    "\n",
    "# print(\"Accuracy:\", score)"
   ]
  },
  {
   "cell_type": "code",
   "execution_count": 15,
   "id": "361300a5",
   "metadata": {},
   "outputs": [],
   "source": [
    "# define model\n",
    "model = Sequential()\n",
    "model.add(Conv1D(filters=32, kernel_size=8, activation='relu'))\n",
    "model.add(MaxPooling1D(pool_size=2))\n",
    "model.add(Dropout(0.1))\n",
    "model.add(Flatten())\n",
    "model.add(Dense(128, activation='relu'))\n",
    "model.add(Dense(1, activation='sigmoid'))"
   ]
  },
  {
   "cell_type": "code",
   "execution_count": 16,
   "id": "c38a954c",
   "metadata": {},
   "outputs": [],
   "source": [
    "model.compile(optimizer='adam',\n",
    "              loss=tf.keras.losses.BinaryCrossentropy(from_logits=True),\n",
    "              metrics=['accuracy'])\n",
    "\n",
    "es = EarlyStopping(monitor='val_loss', mode='min', verbose=1, patience=50)"
   ]
  },
  {
   "cell_type": "code",
   "execution_count": null,
   "id": "992719b5",
   "metadata": {},
   "outputs": [
    {
     "name": "stdout",
     "output_type": "stream",
     "text": [
      "Epoch 1/1000\n"
     ]
    },
    {
     "name": "stderr",
     "output_type": "stream",
     "text": [
      "/Users/jasmineli/opt/anaconda3/envs/etsy/lib/python3.7/site-packages/tensorflow/python/util/dispatch.py:1096: UserWarning: \"`binary_crossentropy` received `from_logits=True`, but the `output` argument was produced by a sigmoid or softmax activation and thus does not represent logits. Was this intended?\"\n",
      "  return dispatch_target(*args, **kwargs)\n"
     ]
    },
    {
     "name": "stdout",
     "output_type": "stream",
     "text": [
      "37/37 - 1s - loss: 0.6540 - accuracy: 0.6251 - val_loss: 0.5809 - val_accuracy: 0.7400 - 1s/epoch - 38ms/step\n"
     ]
    },
    {
     "name": "stderr",
     "output_type": "stream",
     "text": [
      "/Users/jasmineli/opt/anaconda3/envs/etsy/lib/python3.7/site-packages/tensorflow/python/util/dispatch.py:1096: UserWarning: \"`binary_crossentropy` received `from_logits=True`, but the `output` argument was produced by a sigmoid or softmax activation and thus does not represent logits. Was this intended?\"\n",
      "  return dispatch_target(*args, **kwargs)\n"
     ]
    },
    {
     "name": "stdout",
     "output_type": "stream",
     "text": [
      "Epoch 2/1000\n",
      "37/37 - 1s - loss: 0.5748 - accuracy: 0.7065 - val_loss: 0.4909 - val_accuracy: 0.8400 - 803ms/epoch - 22ms/step\n",
      "Epoch 3/1000\n",
      "37/37 - 1s - loss: 0.4957 - accuracy: 0.7651 - val_loss: 0.4382 - val_accuracy: 0.8200 - 832ms/epoch - 22ms/step\n",
      "Epoch 4/1000\n",
      "37/37 - 1s - loss: 0.4388 - accuracy: 0.7854 - val_loss: 0.4210 - val_accuracy: 0.8300 - 804ms/epoch - 22ms/step\n",
      "Epoch 5/1000\n",
      "37/37 - 1s - loss: 0.3865 - accuracy: 0.8151 - val_loss: 0.4202 - val_accuracy: 0.8400 - 810ms/epoch - 22ms/step\n",
      "Epoch 6/1000\n",
      "37/37 - 1s - loss: 0.3402 - accuracy: 0.8499 - val_loss: 0.3649 - val_accuracy: 0.8200 - 825ms/epoch - 22ms/step\n",
      "Epoch 7/1000\n",
      "37/37 - 1s - loss: 0.3063 - accuracy: 0.8668 - val_loss: 0.3839 - val_accuracy: 0.8700 - 816ms/epoch - 22ms/step\n",
      "Epoch 8/1000\n",
      "37/37 - 1s - loss: 0.2653 - accuracy: 0.8863 - val_loss: 0.3403 - val_accuracy: 0.8500 - 858ms/epoch - 23ms/step\n",
      "Epoch 9/1000\n",
      "37/37 - 1s - loss: 0.2386 - accuracy: 0.9033 - val_loss: 0.3460 - val_accuracy: 0.8700 - 831ms/epoch - 22ms/step\n",
      "Epoch 10/1000\n",
      "37/37 - 1s - loss: 0.2128 - accuracy: 0.9177 - val_loss: 0.3266 - val_accuracy: 0.9000 - 850ms/epoch - 23ms/step\n",
      "Epoch 11/1000\n",
      "37/37 - 1s - loss: 0.1934 - accuracy: 0.9160 - val_loss: 0.3124 - val_accuracy: 0.8900 - 867ms/epoch - 23ms/step\n",
      "Epoch 12/1000\n",
      "37/37 - 1s - loss: 0.1761 - accuracy: 0.9347 - val_loss: 0.2881 - val_accuracy: 0.9000 - 881ms/epoch - 24ms/step\n",
      "Epoch 13/1000\n",
      "37/37 - 1s - loss: 0.1605 - accuracy: 0.9372 - val_loss: 0.2994 - val_accuracy: 0.8800 - 919ms/epoch - 25ms/step\n",
      "Epoch 14/1000\n",
      "37/37 - 1s - loss: 0.1534 - accuracy: 0.9423 - val_loss: 0.3161 - val_accuracy: 0.8800 - 919ms/epoch - 25ms/step\n",
      "Epoch 15/1000\n",
      "37/37 - 1s - loss: 0.1346 - accuracy: 0.9517 - val_loss: 0.2863 - val_accuracy: 0.8900 - 918ms/epoch - 25ms/step\n",
      "Epoch 16/1000\n",
      "37/37 - 1s - loss: 0.1217 - accuracy: 0.9576 - val_loss: 0.3323 - val_accuracy: 0.9100 - 911ms/epoch - 25ms/step\n",
      "Epoch 17/1000\n",
      "37/37 - 1s - loss: 0.1153 - accuracy: 0.9491 - val_loss: 0.3031 - val_accuracy: 0.9200 - 907ms/epoch - 25ms/step\n",
      "Epoch 18/1000\n",
      "37/37 - 1s - loss: 0.1185 - accuracy: 0.9550 - val_loss: 0.2550 - val_accuracy: 0.9200 - 926ms/epoch - 25ms/step\n",
      "Epoch 19/1000\n",
      "37/37 - 1s - loss: 0.1152 - accuracy: 0.9550 - val_loss: 0.2652 - val_accuracy: 0.9100 - 907ms/epoch - 25ms/step\n",
      "Epoch 20/1000\n",
      "37/37 - 1s - loss: 0.1143 - accuracy: 0.9576 - val_loss: 0.2773 - val_accuracy: 0.9300 - 899ms/epoch - 24ms/step\n",
      "Epoch 21/1000\n",
      "37/37 - 1s - loss: 0.1107 - accuracy: 0.9483 - val_loss: 0.2749 - val_accuracy: 0.9400 - 919ms/epoch - 25ms/step\n",
      "Epoch 22/1000\n",
      "37/37 - 1s - loss: 0.1088 - accuracy: 0.9576 - val_loss: 0.2835 - val_accuracy: 0.9200 - 940ms/epoch - 25ms/step\n",
      "Epoch 23/1000\n",
      "37/37 - 1s - loss: 0.1005 - accuracy: 0.9576 - val_loss: 0.2829 - val_accuracy: 0.9200 - 970ms/epoch - 26ms/step\n",
      "Epoch 24/1000\n",
      "37/37 - 1s - loss: 0.0967 - accuracy: 0.9593 - val_loss: 0.2795 - val_accuracy: 0.9300 - 931ms/epoch - 25ms/step\n",
      "Epoch 25/1000\n",
      "37/37 - 1s - loss: 0.0825 - accuracy: 0.9661 - val_loss: 0.2803 - val_accuracy: 0.9300 - 995ms/epoch - 27ms/step\n",
      "Epoch 26/1000\n",
      "37/37 - 1s - loss: 0.0850 - accuracy: 0.9669 - val_loss: 0.2697 - val_accuracy: 0.9200 - 996ms/epoch - 27ms/step\n",
      "Epoch 27/1000\n",
      "37/37 - 1s - loss: 0.0793 - accuracy: 0.9593 - val_loss: 0.2537 - val_accuracy: 0.9400 - 1s/epoch - 28ms/step\n",
      "Epoch 28/1000\n",
      "37/37 - 1s - loss: 0.0768 - accuracy: 0.9686 - val_loss: 0.3033 - val_accuracy: 0.9300 - 961ms/epoch - 26ms/step\n",
      "Epoch 29/1000\n",
      "37/37 - 1s - loss: 0.0839 - accuracy: 0.9703 - val_loss: 0.2494 - val_accuracy: 0.9200 - 1s/epoch - 28ms/step\n",
      "Epoch 30/1000\n",
      "37/37 - 1s - loss: 0.0832 - accuracy: 0.9644 - val_loss: 0.3065 - val_accuracy: 0.9300 - 1s/epoch - 27ms/step\n",
      "Epoch 31/1000\n",
      "37/37 - 1s - loss: 0.0799 - accuracy: 0.9618 - val_loss: 0.2662 - val_accuracy: 0.9400 - 1s/epoch - 28ms/step\n",
      "Epoch 32/1000\n",
      "37/37 - 1s - loss: 0.0757 - accuracy: 0.9720 - val_loss: 0.2855 - val_accuracy: 0.9300 - 1s/epoch - 30ms/step\n",
      "Epoch 33/1000\n",
      "37/37 - 1s - loss: 0.0716 - accuracy: 0.9703 - val_loss: 0.2940 - val_accuracy: 0.9200 - 1s/epoch - 30ms/step\n",
      "Epoch 34/1000\n",
      "37/37 - 1s - loss: 0.0752 - accuracy: 0.9703 - val_loss: 0.2779 - val_accuracy: 0.9300 - 1s/epoch - 31ms/step\n",
      "Epoch 35/1000\n",
      "37/37 - 1s - loss: 0.0839 - accuracy: 0.9678 - val_loss: 0.2555 - val_accuracy: 0.9300 - 1s/epoch - 29ms/step\n",
      "Epoch 36/1000\n",
      "37/37 - 1s - loss: 0.0650 - accuracy: 0.9746 - val_loss: 0.3232 - val_accuracy: 0.9300 - 1s/epoch - 29ms/step\n",
      "Epoch 37/1000\n",
      "37/37 - 1s - loss: 0.0766 - accuracy: 0.9678 - val_loss: 0.2617 - val_accuracy: 0.9300 - 1s/epoch - 30ms/step\n",
      "Epoch 38/1000\n",
      "37/37 - 1s - loss: 0.0648 - accuracy: 0.9746 - val_loss: 0.2712 - val_accuracy: 0.9400 - 1s/epoch - 30ms/step\n",
      "Epoch 39/1000\n",
      "37/37 - 1s - loss: 0.0666 - accuracy: 0.9729 - val_loss: 0.2310 - val_accuracy: 0.9400 - 983ms/epoch - 27ms/step\n",
      "Epoch 40/1000\n",
      "37/37 - 1s - loss: 0.0616 - accuracy: 0.9729 - val_loss: 0.2787 - val_accuracy: 0.9300 - 963ms/epoch - 26ms/step\n",
      "Epoch 41/1000\n",
      "37/37 - 1s - loss: 0.0638 - accuracy: 0.9729 - val_loss: 0.2593 - val_accuracy: 0.9400 - 998ms/epoch - 27ms/step\n",
      "Epoch 42/1000\n",
      "37/37 - 1s - loss: 0.0654 - accuracy: 0.9729 - val_loss: 0.2794 - val_accuracy: 0.9100 - 989ms/epoch - 27ms/step\n",
      "Epoch 43/1000\n",
      "37/37 - 1s - loss: 0.0696 - accuracy: 0.9669 - val_loss: 0.2813 - val_accuracy: 0.9300 - 982ms/epoch - 27ms/step\n",
      "Epoch 44/1000\n",
      "37/37 - 1s - loss: 0.0667 - accuracy: 0.9720 - val_loss: 0.2721 - val_accuracy: 0.9200 - 991ms/epoch - 27ms/step\n",
      "Epoch 45/1000\n",
      "37/37 - 1s - loss: 0.0660 - accuracy: 0.9703 - val_loss: 0.2715 - val_accuracy: 0.9300 - 997ms/epoch - 27ms/step\n",
      "Epoch 46/1000\n",
      "37/37 - 1s - loss: 0.0549 - accuracy: 0.9779 - val_loss: 0.2826 - val_accuracy: 0.9400 - 1s/epoch - 29ms/step\n",
      "Epoch 47/1000\n",
      "37/37 - 1s - loss: 0.0519 - accuracy: 0.9771 - val_loss: 0.2373 - val_accuracy: 0.9400 - 1s/epoch - 28ms/step\n",
      "Epoch 48/1000\n",
      "37/37 - 1s - loss: 0.0568 - accuracy: 0.9754 - val_loss: 0.2904 - val_accuracy: 0.9400 - 1s/epoch - 30ms/step\n",
      "Epoch 49/1000\n",
      "37/37 - 1s - loss: 0.0547 - accuracy: 0.9788 - val_loss: 0.2552 - val_accuracy: 0.9500 - 1s/epoch - 27ms/step\n",
      "Epoch 50/1000\n",
      "37/37 - 1s - loss: 0.0629 - accuracy: 0.9729 - val_loss: 0.2820 - val_accuracy: 0.9300 - 1s/epoch - 27ms/step\n",
      "Epoch 51/1000\n",
      "37/37 - 1s - loss: 0.0602 - accuracy: 0.9754 - val_loss: 0.2795 - val_accuracy: 0.9200 - 1s/epoch - 28ms/step\n",
      "Epoch 52/1000\n",
      "37/37 - 1s - loss: 0.0642 - accuracy: 0.9720 - val_loss: 0.2726 - val_accuracy: 0.9300 - 1s/epoch - 29ms/step\n",
      "Epoch 53/1000\n",
      "37/37 - 1s - loss: 0.0573 - accuracy: 0.9771 - val_loss: 0.2918 - val_accuracy: 0.9200 - 1s/epoch - 29ms/step\n",
      "Epoch 54/1000\n",
      "37/37 - 1s - loss: 0.0585 - accuracy: 0.9779 - val_loss: 0.2890 - val_accuracy: 0.9300 - 1s/epoch - 29ms/step\n",
      "Epoch 55/1000\n",
      "37/37 - 1s - loss: 0.0559 - accuracy: 0.9720 - val_loss: 0.3001 - val_accuracy: 0.9200 - 1s/epoch - 30ms/step\n",
      "Epoch 56/1000\n",
      "37/37 - 1s - loss: 0.0579 - accuracy: 0.9779 - val_loss: 0.2397 - val_accuracy: 0.9500 - 1s/epoch - 28ms/step\n",
      "Epoch 57/1000\n",
      "37/37 - 1s - loss: 0.0544 - accuracy: 0.9729 - val_loss: 0.2942 - val_accuracy: 0.9300 - 1s/epoch - 30ms/step\n",
      "Epoch 58/1000\n",
      "37/37 - 1s - loss: 0.0536 - accuracy: 0.9737 - val_loss: 0.2770 - val_accuracy: 0.9400 - 1s/epoch - 29ms/step\n",
      "Epoch 59/1000\n",
      "37/37 - 1s - loss: 0.0560 - accuracy: 0.9720 - val_loss: 0.3152 - val_accuracy: 0.9100 - 1s/epoch - 29ms/step\n",
      "Epoch 60/1000\n",
      "37/37 - 1s - loss: 0.0573 - accuracy: 0.9779 - val_loss: 0.3148 - val_accuracy: 0.9200 - 1s/epoch - 28ms/step\n",
      "Epoch 61/1000\n",
      "37/37 - 1s - loss: 0.0548 - accuracy: 0.9729 - val_loss: 0.2262 - val_accuracy: 0.9400 - 1s/epoch - 29ms/step\n",
      "Epoch 62/1000\n",
      "37/37 - 1s - loss: 0.0488 - accuracy: 0.9771 - val_loss: 0.2426 - val_accuracy: 0.9400 - 1s/epoch - 29ms/step\n",
      "Epoch 63/1000\n",
      "37/37 - 1s - loss: 0.0509 - accuracy: 0.9779 - val_loss: 0.2562 - val_accuracy: 0.9300 - 1s/epoch - 29ms/step\n",
      "Epoch 64/1000\n",
      "37/37 - 1s - loss: 0.0480 - accuracy: 0.9754 - val_loss: 0.2657 - val_accuracy: 0.9400 - 1s/epoch - 30ms/step\n",
      "Epoch 65/1000\n",
      "37/37 - 1s - loss: 0.0476 - accuracy: 0.9779 - val_loss: 0.2641 - val_accuracy: 0.9300 - 1s/epoch - 30ms/step\n",
      "Epoch 66/1000\n",
      "37/37 - 1s - loss: 0.0480 - accuracy: 0.9796 - val_loss: 0.3259 - val_accuracy: 0.9300 - 1s/epoch - 30ms/step\n",
      "Epoch 67/1000\n",
      "37/37 - 1s - loss: 0.0544 - accuracy: 0.9754 - val_loss: 0.2437 - val_accuracy: 0.9400 - 1s/epoch - 32ms/step\n"
     ]
    },
    {
     "name": "stdout",
     "output_type": "stream",
     "text": [
      "Epoch 68/1000\n",
      "37/37 - 1s - loss: 0.0478 - accuracy: 0.9779 - val_loss: 0.2331 - val_accuracy: 0.9300 - 1s/epoch - 33ms/step\n",
      "Epoch 69/1000\n",
      "37/37 - 1s - loss: 0.0446 - accuracy: 0.9771 - val_loss: 0.2725 - val_accuracy: 0.9300 - 1s/epoch - 33ms/step\n",
      "Epoch 70/1000\n",
      "37/37 - 1s - loss: 0.0597 - accuracy: 0.9737 - val_loss: 0.2692 - val_accuracy: 0.9300 - 1s/epoch - 32ms/step\n",
      "Epoch 71/1000\n",
      "37/37 - 1s - loss: 0.0534 - accuracy: 0.9763 - val_loss: 0.2771 - val_accuracy: 0.9300 - 1s/epoch - 33ms/step\n",
      "Epoch 72/1000\n",
      "37/37 - 1s - loss: 0.0423 - accuracy: 0.9788 - val_loss: 0.3057 - val_accuracy: 0.9300 - 1s/epoch - 33ms/step\n",
      "Epoch 73/1000\n",
      "37/37 - 1s - loss: 0.0453 - accuracy: 0.9796 - val_loss: 0.3045 - val_accuracy: 0.9300 - 1s/epoch - 31ms/step\n",
      "Epoch 74/1000\n",
      "37/37 - 1s - loss: 0.0467 - accuracy: 0.9779 - val_loss: 0.2856 - val_accuracy: 0.9400 - 1s/epoch - 33ms/step\n",
      "Epoch 75/1000\n",
      "37/37 - 1s - loss: 0.0421 - accuracy: 0.9788 - val_loss: 0.3000 - val_accuracy: 0.9300 - 1s/epoch - 35ms/step\n",
      "Epoch 76/1000\n",
      "37/37 - 1s - loss: 0.0462 - accuracy: 0.9771 - val_loss: 0.2397 - val_accuracy: 0.9500 - 1s/epoch - 34ms/step\n",
      "Epoch 77/1000\n",
      "37/37 - 1s - loss: 0.0427 - accuracy: 0.9763 - val_loss: 0.3202 - val_accuracy: 0.9300 - 1s/epoch - 35ms/step\n",
      "Epoch 78/1000\n",
      "37/37 - 1s - loss: 0.0478 - accuracy: 0.9779 - val_loss: 0.3163 - val_accuracy: 0.9300 - 1s/epoch - 35ms/step\n",
      "Epoch 79/1000\n",
      "37/37 - 1s - loss: 0.0415 - accuracy: 0.9788 - val_loss: 0.2655 - val_accuracy: 0.9400 - 1s/epoch - 34ms/step\n",
      "Epoch 80/1000\n",
      "37/37 - 1s - loss: 0.0410 - accuracy: 0.9822 - val_loss: 0.3565 - val_accuracy: 0.9200 - 1s/epoch - 36ms/step\n",
      "Epoch 81/1000\n",
      "37/37 - 1s - loss: 0.0455 - accuracy: 0.9779 - val_loss: 0.2657 - val_accuracy: 0.9400 - 1s/epoch - 37ms/step\n",
      "Epoch 82/1000\n",
      "37/37 - 1s - loss: 0.0401 - accuracy: 0.9839 - val_loss: 0.3583 - val_accuracy: 0.9300 - 1s/epoch - 34ms/step\n",
      "Epoch 83/1000\n",
      "37/37 - 1s - loss: 0.0435 - accuracy: 0.9805 - val_loss: 0.2956 - val_accuracy: 0.9300 - 1s/epoch - 35ms/step\n",
      "Epoch 84/1000\n",
      "37/37 - 1s - loss: 0.0452 - accuracy: 0.9746 - val_loss: 0.2891 - val_accuracy: 0.9300 - 1s/epoch - 36ms/step\n",
      "Epoch 85/1000\n",
      "37/37 - 1s - loss: 0.0471 - accuracy: 0.9796 - val_loss: 0.3327 - val_accuracy: 0.9300 - 1s/epoch - 33ms/step\n",
      "Epoch 86/1000\n",
      "37/37 - 1s - loss: 0.0479 - accuracy: 0.9788 - val_loss: 0.2327 - val_accuracy: 0.9400 - 1s/epoch - 36ms/step\n",
      "Epoch 87/1000\n",
      "37/37 - 1s - loss: 0.0498 - accuracy: 0.9796 - val_loss: 0.3363 - val_accuracy: 0.9300 - 1s/epoch - 33ms/step\n",
      "Epoch 88/1000\n",
      "37/37 - 1s - loss: 0.0426 - accuracy: 0.9822 - val_loss: 0.2833 - val_accuracy: 0.9400 - 1s/epoch - 34ms/step\n",
      "Epoch 89/1000\n",
      "37/37 - 1s - loss: 0.0447 - accuracy: 0.9796 - val_loss: 0.3162 - val_accuracy: 0.9300 - 1s/epoch - 34ms/step\n",
      "Epoch 90/1000\n",
      "37/37 - 1s - loss: 0.0458 - accuracy: 0.9779 - val_loss: 0.2317 - val_accuracy: 0.9400 - 1s/epoch - 36ms/step\n",
      "Epoch 91/1000\n"
     ]
    }
   ],
   "source": [
    "history = model.fit(\n",
    "    X_train,\n",
    "    y_train,\n",
    "    epochs=1000,\n",
    "    verbose=2,\n",
    "    validation_data=(evals_X, evals_y),\n",
    "    batch_size=32,\n",
    "    callbacks=[es]\n",
    ")\n",
    "model.summary()"
   ]
  },
  {
   "cell_type": "code",
   "execution_count": null,
   "id": "19646141",
   "metadata": {},
   "outputs": [],
   "source": []
  }
 ],
 "metadata": {
  "kernelspec": {
   "display_name": "Python (etsy)",
   "language": "python",
   "name": "etsy"
  },
  "language_info": {
   "codemirror_mode": {
    "name": "ipython",
    "version": 3
   },
   "file_extension": ".py",
   "mimetype": "text/x-python",
   "name": "python",
   "nbconvert_exporter": "python",
   "pygments_lexer": "ipython3",
   "version": "3.7.11"
  }
 },
 "nbformat": 4,
 "nbformat_minor": 5
}
