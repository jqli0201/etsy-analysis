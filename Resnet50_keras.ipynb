{
  "nbformat": 4,
  "nbformat_minor": 0,
  "metadata": {
    "colab": {
      "name": "Resnet50_keras.ipynb",
      "provenance": [],
      "collapsed_sections": []
    },
    "kernelspec": {
      "name": "python3",
      "display_name": "Python 3"
    },
    "language_info": {
      "name": "python"
    },
    "accelerator": "GPU"
  },
  "cells": [
    {
      "cell_type": "code",
      "metadata": {
        "colab": {
          "base_uri": "https://localhost:8080/"
        },
        "id": "6uv6FJ3_l1gk",
        "outputId": "7ade1697-2c1d-43a5-bb72-35109aa1817c"
      },
      "source": [
        "import matplotlib.pyplot as plt\n",
        "import tensorflow as tf\n",
        "\n",
        "from keras.preprocessing.image import ImageDataGenerator, array_to_img, img_to_array, load_img\n",
        "from google.colab import drive \n",
        "drive.mount('/content/gdrive')\n",
        "import pandas as pd \n",
        "import numpy as np\n",
        "df = pd.read_pickle('gdrive/My Drive/Learn/Stanford/CS230/image_224x224_sale.pkl')\n",
        "X = df['image_pixel']\n",
        "y = df['high_sale']\n",
        "X = X.to_numpy()\n",
        "X = np.stack(X, axis=0)"
      ],
      "execution_count": 2,
      "outputs": [
        {
          "output_type": "stream",
          "name": "stdout",
          "text": [
            "Mounted at /content/gdrive\n"
          ]
        }
      ]
    },
    {
      "cell_type": "code",
      "metadata": {
        "colab": {
          "base_uri": "https://localhost:8080/"
        },
        "id": "SM5AqcTrDPkQ",
        "outputId": "f7ecd976-426e-40d1-bebd-54db81dea3fe"
      },
      "source": [
        "from sklearn.model_selection import train_test_split\n",
        "# Split into 0.75:0.125:0.125\n",
        "X = X/255.\n",
        "X_train, X_test, y_train, y_test = train_test_split(X, y, test_size=0.125, random_state=42)\n",
        "X_train, X_dev, y_train, y_dev = train_test_split(X_train, y_train, test_size=0.14286, random_state=42)\n",
        "print (\"number of training examples = \" + str(X_train.shape[0]))\n",
        "print (\"number of dev examples = \" + str(X_dev.shape[0]))\n",
        "print (\"number of test examples = \" + str(X_test.shape[0]))\n",
        "print (\"X_train shape: \" + str(X_train.shape))\n",
        "print (\"Y_train shape: \" + str(y_train.shape))\n",
        "print (\"X_dev shape: \" + str(X_dev.shape))\n",
        "print (\"Y_dev shape: \" + str(y_dev.shape))\n",
        "print (\"X_test shape: \" + str(X_test.shape))\n",
        "print (\"Y_test shape: \" + str(y_test.shape))"
      ],
      "execution_count": 3,
      "outputs": [
        {
          "output_type": "stream",
          "name": "stdout",
          "text": [
            "number of training examples = 1179\n",
            "number of dev examples = 197\n",
            "number of test examples = 197\n",
            "X_train shape: (1179, 224, 224, 3)\n",
            "Y_train shape: (1179,)\n",
            "X_dev shape: (197, 224, 224, 3)\n",
            "Y_dev shape: (197,)\n",
            "X_test shape: (197, 224, 224, 3)\n",
            "Y_test shape: (197,)\n"
          ]
        }
      ]
    },
    {
      "cell_type": "code",
      "metadata": {
        "colab": {
          "base_uri": "https://localhost:8080/"
        },
        "id": "tBdW6Nrm1caH",
        "outputId": "e7d9a80c-0538-43d7-a44a-4b3170e12361"
      },
      "source": [
        "# example of loading the resnet50 model\n",
        "from keras.applications.resnet import ResNet50\n",
        "# load model\n",
        "base_model = ResNet50(weights='imagenet')\n",
        "\n",
        "model = tf.keras.models.Sequential()\n",
        "model.add(base_model)\n",
        "model.add(tf.keras.layers.Flatten())\n",
        "model.add(tf.keras.layers.Dropout(0.8))\n",
        "#model.add(tf.keras.layers.Dense(500, activation='relu'))\n",
        "model.add(tf.keras.layers.Dense(1, activation='sigmoid'))\n",
        "model.layers[0].trainable = False\n",
        "\n",
        "opt = tf.keras.optimizers.Adam(learning_rate=0.01)\n",
        "model.compile(optimizer=opt,\n",
        "              loss=tf.keras.losses.BinaryCrossentropy(from_logits=False),\n",
        "              metrics=['accuracy'])\n",
        "\n",
        "model.summary()"
      ],
      "execution_count": 9,
      "outputs": [
        {
          "output_type": "stream",
          "name": "stdout",
          "text": [
            "Model: \"sequential_1\"\n",
            "_________________________________________________________________\n",
            " Layer (type)                Output Shape              Param #   \n",
            "=================================================================\n",
            " resnet50 (Functional)       (None, 1000)              25636712  \n",
            "                                                                 \n",
            " flatten_1 (Flatten)         (None, 1000)              0         \n",
            "                                                                 \n",
            " dropout_1 (Dropout)         (None, 1000)              0         \n",
            "                                                                 \n",
            " dense_1 (Dense)             (None, 1)                 1001      \n",
            "                                                                 \n",
            "=================================================================\n",
            "Total params: 25,637,713\n",
            "Trainable params: 1,001\n",
            "Non-trainable params: 25,636,712\n",
            "_________________________________________________________________\n"
          ]
        }
      ]
    },
    {
      "cell_type": "code",
      "metadata": {
        "colab": {
          "base_uri": "https://localhost:8080/"
        },
        "id": "q77KoNieBTNB",
        "outputId": "318f4c6d-72c4-4258-b4cd-7a4f11af14b7"
      },
      "source": [
        "EPOCHS = 25\n",
        "# early_stopping = tf.keras.callbacks.EarlyStopping(\n",
        "#     monitor='val_accuracy',\n",
        "#     mode='max',\n",
        "#     patience=6\n",
        "# )\n",
        "\n",
        "history = model.fit(\n",
        "    X_train,\n",
        "    y_train,\n",
        "    epochs=20,\n",
        "    validation_data=(X_dev, y_dev),\n",
        ")\n",
        "\n",
        "# history = model.fit_generator(\n",
        "#     train_generator,\n",
        "#     steps_per_epoch=50,\n",
        "#     epochs=EPOCHS,\n",
        "#     validation_data=validation_generator,\n",
        "#     validation_steps=25,\n",
        "#     callbacks=[early_stopping]\n",
        "# )"
      ],
      "execution_count": 10,
      "outputs": [
        {
          "output_type": "stream",
          "name": "stdout",
          "text": [
            "Epoch 1/20\n",
            "37/37 [==============================] - 25s 339ms/step - loss: 0.6844 - accuracy: 0.5869 - val_loss: 0.6649 - val_accuracy: 0.6345\n",
            "Epoch 2/20\n",
            "37/37 [==============================] - 9s 253ms/step - loss: 0.6806 - accuracy: 0.5827 - val_loss: 0.6625 - val_accuracy: 0.6345\n",
            "Epoch 3/20\n",
            "37/37 [==============================] - 9s 253ms/step - loss: 0.6792 - accuracy: 0.5827 - val_loss: 0.6625 - val_accuracy: 0.6345\n",
            "Epoch 4/20\n",
            "37/37 [==============================] - 9s 253ms/step - loss: 0.6807 - accuracy: 0.5827 - val_loss: 0.6626 - val_accuracy: 0.6345\n",
            "Epoch 5/20\n",
            "37/37 [==============================] - 9s 252ms/step - loss: 0.6793 - accuracy: 0.5827 - val_loss: 0.6627 - val_accuracy: 0.6345\n",
            "Epoch 6/20\n",
            "37/37 [==============================] - 9s 252ms/step - loss: 0.6799 - accuracy: 0.5827 - val_loss: 0.6616 - val_accuracy: 0.6345\n",
            "Epoch 7/20\n",
            "37/37 [==============================] - 9s 252ms/step - loss: 0.6794 - accuracy: 0.5827 - val_loss: 0.6616 - val_accuracy: 0.6345\n",
            "Epoch 8/20\n",
            "37/37 [==============================] - 9s 252ms/step - loss: 0.6803 - accuracy: 0.5827 - val_loss: 0.6625 - val_accuracy: 0.6345\n",
            "Epoch 9/20\n",
            "37/37 [==============================] - 9s 252ms/step - loss: 0.6800 - accuracy: 0.5827 - val_loss: 0.6621 - val_accuracy: 0.6345\n",
            "Epoch 10/20\n",
            "37/37 [==============================] - 9s 252ms/step - loss: 0.6811 - accuracy: 0.5827 - val_loss: 0.6620 - val_accuracy: 0.6345\n",
            "Epoch 11/20\n",
            "37/37 [==============================] - 9s 252ms/step - loss: 0.6806 - accuracy: 0.5827 - val_loss: 0.6633 - val_accuracy: 0.6345\n",
            "Epoch 12/20\n",
            "37/37 [==============================] - 9s 252ms/step - loss: 0.6807 - accuracy: 0.5827 - val_loss: 0.6626 - val_accuracy: 0.6345\n",
            "Epoch 13/20\n",
            "37/37 [==============================] - 9s 252ms/step - loss: 0.6799 - accuracy: 0.5827 - val_loss: 0.6633 - val_accuracy: 0.6345\n",
            "Epoch 14/20\n",
            "37/37 [==============================] - 9s 252ms/step - loss: 0.6797 - accuracy: 0.5827 - val_loss: 0.6632 - val_accuracy: 0.6345\n",
            "Epoch 15/20\n",
            "37/37 [==============================] - 9s 252ms/step - loss: 0.6799 - accuracy: 0.5827 - val_loss: 0.6617 - val_accuracy: 0.6345\n",
            "Epoch 16/20\n",
            "37/37 [==============================] - 9s 251ms/step - loss: 0.6789 - accuracy: 0.5827 - val_loss: 0.6638 - val_accuracy: 0.6345\n",
            "Epoch 17/20\n",
            "37/37 [==============================] - 9s 252ms/step - loss: 0.6803 - accuracy: 0.5827 - val_loss: 0.6628 - val_accuracy: 0.6345\n",
            "Epoch 18/20\n",
            "37/37 [==============================] - 9s 251ms/step - loss: 0.6796 - accuracy: 0.5827 - val_loss: 0.6619 - val_accuracy: 0.6345\n",
            "Epoch 19/20\n",
            "37/37 [==============================] - 9s 252ms/step - loss: 0.6803 - accuracy: 0.5827 - val_loss: 0.6625 - val_accuracy: 0.6345\n",
            "Epoch 20/20\n",
            "37/37 [==============================] - 9s 252ms/step - loss: 0.6787 - accuracy: 0.5827 - val_loss: 0.6626 - val_accuracy: 0.6345\n"
          ]
        }
      ]
    }
  ]
}