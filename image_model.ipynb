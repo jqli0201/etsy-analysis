{
  "nbformat": 4,
  "nbformat_minor": 0,
  "metadata": {
    "colab": {
      "name": "image_model.ipynb",
      "provenance": [],
      "collapsed_sections": [
        "2sS9--rWxIOb"
      ]
    },
    "kernelspec": {
      "name": "python3",
      "display_name": "Python 3"
    },
    "language_info": {
      "name": "python"
    }
  },
  "cells": [
    {
      "cell_type": "markdown",
      "metadata": {
        "id": "zcYcpVHsTfp-"
      },
      "source": [
        "## Load Dataset and Packages"
      ]
    },
    {
      "cell_type": "code",
      "metadata": {
        "colab": {
          "base_uri": "https://localhost:8080/"
        },
        "id": "dXsmVodR8SUz",
        "outputId": "a6abc49f-93c4-439c-f910-6086ff3173ec"
      },
      "source": [
        "from google.colab import drive \n",
        "drive.mount('/content/gdrive')\n",
        "import pandas as pd \n",
        "import numpy as np\n",
        "df = pd.read_pickle('gdrive/My Drive/image_sale.pkl')"
      ],
      "execution_count": 1,
      "outputs": [
        {
          "output_type": "stream",
          "name": "stdout",
          "text": [
            "Mounted at /content/gdrive\n"
          ]
        }
      ]
    },
    {
      "cell_type": "code",
      "metadata": {
        "id": "vSVxkuDmpgrU"
      },
      "source": [
        "X = df['image_pixel']\n",
        "y = df['high_sale']\n",
        "X = X.to_numpy()\n",
        "X = np.stack(X, axis=0)"
      ],
      "execution_count": 20,
      "outputs": []
    },
    {
      "cell_type": "code",
      "metadata": {
        "id": "F0mr73klqsBj"
      },
      "source": [
        "from sklearn.model_selection import train_test_split\n",
        "# Split into 0.75:0.125:0.125\n",
        "X = X/255.\n",
        "X_train, X_test, y_train, y_test = train_test_split(X, y, test_size=0.125, random_state=42)\n",
        "X_train, X_dev, y_train, y_dev = train_test_split(X_train, y_train, test_size=0.14286, random_state=42)"
      ],
      "execution_count": 24,
      "outputs": []
    },
    {
      "cell_type": "code",
      "metadata": {
        "colab": {
          "base_uri": "https://localhost:8080/"
        },
        "id": "5txawjHUs7iF",
        "outputId": "eeb088bd-0245-44f2-e9e2-d680e4cdb26e"
      },
      "source": [
        "print (\"number of training examples = \" + str(X_train.shape[0]))\n",
        "print (\"number of dev examples = \" + str(X_dev.shape[0]))\n",
        "print (\"number of test examples = \" + str(X_test.shape[0]))\n",
        "print (\"X_train shape: \" + str(X_train.shape))\n",
        "print (\"Y_train shape: \" + str(y_train.shape))\n",
        "print (\"X_dev shape: \" + str(X_dev.shape))\n",
        "print (\"Y_dev shape: \" + str(y_dev.shape))\n",
        "print (\"X_test shape: \" + str(X_test.shape))\n",
        "print (\"Y_test shape: \" + str(y_test.shape))"
      ],
      "execution_count": 25,
      "outputs": [
        {
          "output_type": "stream",
          "name": "stdout",
          "text": [
            "number of training examples = 1179\n",
            "number of dev examples = 197\n",
            "number of test examples = 197\n",
            "X_train shape: (1179, 128, 128, 3)\n",
            "Y_train shape: (1179,)\n",
            "X_dev shape: (197, 128, 128, 3)\n",
            "Y_dev shape: (197,)\n",
            "X_test shape: (197, 128, 128, 3)\n",
            "Y_test shape: (197,)\n"
          ]
        }
      ]
    },
    {
      "cell_type": "code",
      "metadata": {
        "id": "otIopTgEvaqN"
      },
      "source": [
        "import matplotlib.pyplot as plt\n",
        "import numpy as np\n",
        "import os\n",
        "import PIL\n",
        "import tensorflow as tf\n",
        "\n",
        "from tensorflow import keras\n",
        "from tensorflow.keras import layers\n",
        "from tensorflow.keras.models import Sequential\n",
        "\n",
        "input_shape = X_train.shape[1:]\n",
        "model = Sequential([\n",
        "  layers.Conv2D(16, 3, padding='same', activation='relu', input_shape = input_shape),\n",
        "  layers.Dropout(0.1),\n",
        "  layers.MaxPooling2D(),\n",
        "  layers.Conv2D(32, 3, padding='same', activation='relu', input_shape = input_shape),\n",
        "  layers.Dropout(0.1),\n",
        "  layers.MaxPooling2D(),\n",
        "  layers.Conv2D(64, 3, padding='same', activation='relu', input_shape = input_shape),\n",
        "  layers.Dropout(0.1),\n",
        "  layers.MaxPooling2D(),\n",
        "  layers.Flatten(),\n",
        "  layers.Dense(128, activation='relu'),\n",
        "  layers.Dropout(0.3),\n",
        "  layers.Dense(1)\n",
        "])"
      ],
      "execution_count": 32,
      "outputs": []
    },
    {
      "cell_type": "code",
      "metadata": {
        "id": "h_VXtCj5xWK9"
      },
      "source": [
        "model.compile(optimizer='adam',\n",
        "              loss=tf.keras.losses.BinaryCrossentropy(from_logits=True),\n",
        "              metrics=['accuracy'])"
      ],
      "execution_count": 33,
      "outputs": []
    },
    {
      "cell_type": "code",
      "metadata": {
        "colab": {
          "base_uri": "https://localhost:8080/"
        },
        "id": "5cYEElV0xo7t",
        "outputId": "5ad1e5dc-b199-4296-e935-e03a2d9fe403"
      },
      "source": [
        "model.summary()"
      ],
      "execution_count": 34,
      "outputs": [
        {
          "output_type": "stream",
          "name": "stdout",
          "text": [
            "Model: \"sequential_1\"\n",
            "_________________________________________________________________\n",
            "Layer (type)                 Output Shape              Param #   \n",
            "=================================================================\n",
            "conv2d_3 (Conv2D)            (None, 128, 128, 16)      448       \n",
            "_________________________________________________________________\n",
            "dropout (Dropout)            (None, 128, 128, 16)      0         \n",
            "_________________________________________________________________\n",
            "max_pooling2d_3 (MaxPooling2 (None, 64, 64, 16)        0         \n",
            "_________________________________________________________________\n",
            "conv2d_4 (Conv2D)            (None, 64, 64, 32)        4640      \n",
            "_________________________________________________________________\n",
            "dropout_1 (Dropout)          (None, 64, 64, 32)        0         \n",
            "_________________________________________________________________\n",
            "max_pooling2d_4 (MaxPooling2 (None, 32, 32, 32)        0         \n",
            "_________________________________________________________________\n",
            "conv2d_5 (Conv2D)            (None, 32, 32, 64)        18496     \n",
            "_________________________________________________________________\n",
            "dropout_2 (Dropout)          (None, 32, 32, 64)        0         \n",
            "_________________________________________________________________\n",
            "max_pooling2d_5 (MaxPooling2 (None, 16, 16, 64)        0         \n",
            "_________________________________________________________________\n",
            "flatten_1 (Flatten)          (None, 16384)             0         \n",
            "_________________________________________________________________\n",
            "dense_2 (Dense)              (None, 128)               2097280   \n",
            "_________________________________________________________________\n",
            "dropout_3 (Dropout)          (None, 128)               0         \n",
            "_________________________________________________________________\n",
            "dense_3 (Dense)              (None, 1)                 129       \n",
            "=================================================================\n",
            "Total params: 2,120,993\n",
            "Trainable params: 2,120,993\n",
            "Non-trainable params: 0\n",
            "_________________________________________________________________\n"
          ]
        }
      ]
    },
    {
      "cell_type": "code",
      "metadata": {
        "colab": {
          "base_uri": "https://localhost:8080/"
        },
        "id": "WGxehaxBxw2g",
        "outputId": "61f8a931-5d9f-46ab-bfa3-697714168990"
      },
      "source": [
        "history = model.fit(\n",
        "    X_train,\n",
        "    y_train,\n",
        "    epochs=20,\n",
        "    validation_data=(X_dev, y_dev),\n",
        ")"
      ],
      "execution_count": 35,
      "outputs": [
        {
          "output_type": "stream",
          "name": "stdout",
          "text": [
            "Epoch 1/20\n",
            "37/37 [==============================] - 24s 622ms/step - loss: 0.6944 - accuracy: 0.4707 - val_loss: 0.6789 - val_accuracy: 0.3655\n",
            "Epoch 2/20\n",
            "37/37 [==============================] - 23s 610ms/step - loss: 0.6555 - accuracy: 0.5242 - val_loss: 0.6517 - val_accuracy: 0.4619\n",
            "Epoch 3/20\n",
            "37/37 [==============================] - 23s 620ms/step - loss: 0.6052 - accuracy: 0.6124 - val_loss: 0.6409 - val_accuracy: 0.4822\n",
            "Epoch 4/20\n",
            "37/37 [==============================] - 23s 617ms/step - loss: 0.5560 - accuracy: 0.6650 - val_loss: 0.6628 - val_accuracy: 0.4518\n",
            "Epoch 5/20\n",
            "37/37 [==============================] - 23s 624ms/step - loss: 0.5138 - accuracy: 0.7176 - val_loss: 0.7329 - val_accuracy: 0.6345\n",
            "Epoch 6/20\n",
            "37/37 [==============================] - 23s 610ms/step - loss: 0.4710 - accuracy: 0.7684 - val_loss: 0.6641 - val_accuracy: 0.5584\n",
            "Epoch 7/20\n",
            "37/37 [==============================] - 23s 621ms/step - loss: 0.4255 - accuracy: 0.8007 - val_loss: 0.7103 - val_accuracy: 0.6650\n",
            "Epoch 8/20\n",
            "37/37 [==============================] - 23s 621ms/step - loss: 0.3830 - accuracy: 0.8168 - val_loss: 0.8116 - val_accuracy: 0.5482\n",
            "Epoch 9/20\n",
            "37/37 [==============================] - 23s 616ms/step - loss: 0.3412 - accuracy: 0.8405 - val_loss: 0.8257 - val_accuracy: 0.6548\n",
            "Epoch 10/20\n",
            "37/37 [==============================] - 23s 621ms/step - loss: 0.3352 - accuracy: 0.8634 - val_loss: 0.7416 - val_accuracy: 0.6497\n",
            "Epoch 11/20\n",
            "37/37 [==============================] - 23s 610ms/step - loss: 0.3382 - accuracy: 0.8490 - val_loss: 0.7614 - val_accuracy: 0.6345\n",
            "Epoch 12/20\n",
            "37/37 [==============================] - 23s 620ms/step - loss: 0.2897 - accuracy: 0.8830 - val_loss: 0.7832 - val_accuracy: 0.6142\n",
            "Epoch 13/20\n",
            "37/37 [==============================] - 23s 628ms/step - loss: 0.2973 - accuracy: 0.8779 - val_loss: 0.8330 - val_accuracy: 0.6345\n",
            "Epoch 14/20\n",
            "37/37 [==============================] - 23s 619ms/step - loss: 0.2961 - accuracy: 0.8753 - val_loss: 0.8126 - val_accuracy: 0.6701\n",
            "Epoch 15/20\n",
            "37/37 [==============================] - 23s 627ms/step - loss: 0.2748 - accuracy: 0.8804 - val_loss: 0.8109 - val_accuracy: 0.6447\n",
            "Epoch 16/20\n",
            "37/37 [==============================] - 23s 627ms/step - loss: 0.2524 - accuracy: 0.8889 - val_loss: 0.8746 - val_accuracy: 0.6853\n",
            "Epoch 17/20\n",
            "37/37 [==============================] - 23s 627ms/step - loss: 0.2477 - accuracy: 0.8940 - val_loss: 0.8250 - val_accuracy: 0.6650\n",
            "Epoch 18/20\n",
            "37/37 [==============================] - 23s 629ms/step - loss: 0.2405 - accuracy: 0.8931 - val_loss: 0.8921 - val_accuracy: 0.6294\n",
            "Epoch 19/20\n",
            "37/37 [==============================] - 23s 622ms/step - loss: 0.2414 - accuracy: 0.8821 - val_loss: 0.8852 - val_accuracy: 0.6497\n",
            "Epoch 20/20\n",
            "37/37 [==============================] - 22s 606ms/step - loss: 0.2341 - accuracy: 0.8940 - val_loss: 0.8436 - val_accuracy: 0.6447\n"
          ]
        }
      ]
    }
  ]
}