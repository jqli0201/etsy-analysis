{
  "nbformat": 4,
  "nbformat_minor": 0,
  "metadata": {
    "colab": {
      "name": "vgg16_keras.ipynb",
      "provenance": [],
      "collapsed_sections": []
    },
    "kernelspec": {
      "name": "python3",
      "display_name": "Python 3"
    },
    "language_info": {
      "name": "python"
    }
  },
  "cells": [
    {
      "cell_type": "code",
      "metadata": {
        "colab": {
          "base_uri": "https://localhost:8080/"
        },
        "id": "sa_WaDdEBIMv",
        "outputId": "47e02569-8e87-4b48-edb2-4666336f8b76"
      },
      "source": [
        "from google.colab import drive \n",
        "drive.mount('/content/gdrive')\n",
        "import pandas as pd \n",
        "import numpy as np\n",
        "df = pd.read_pickle('gdrive/My Drive/image_224x224_sale.pkl')\n",
        "X = df['image_pixel']\n",
        "y = df['high_sale']\n",
        "X = X.to_numpy()\n",
        "X = np.stack(X, axis=0)"
      ],
      "execution_count": 1,
      "outputs": [
        {
          "output_type": "stream",
          "name": "stdout",
          "text": [
            "Mounted at /content/gdrive\n"
          ]
        }
      ]
    },
    {
      "cell_type": "code",
      "metadata": {
        "colab": {
          "base_uri": "https://localhost:8080/"
        },
        "id": "SM5AqcTrDPkQ",
        "outputId": "cf1ee9ab-62ed-459d-df2a-7080a82b50f7"
      },
      "source": [
        "from sklearn.model_selection import train_test_split\n",
        "# Split into 0.75:0.125:0.125\n",
        "X = X/255.\n",
        "X_train, X_test, y_train, y_test = train_test_split(X, y, test_size=0.125, random_state=42)\n",
        "X_train, X_dev, y_train, y_dev = train_test_split(X_train, y_train, test_size=0.14286, random_state=42)\n",
        "print (\"number of training examples = \" + str(X_train.shape[0]))\n",
        "print (\"number of dev examples = \" + str(X_dev.shape[0]))\n",
        "print (\"number of test examples = \" + str(X_test.shape[0]))\n",
        "print (\"X_train shape: \" + str(X_train.shape))\n",
        "print (\"Y_train shape: \" + str(y_train.shape))\n",
        "print (\"X_dev shape: \" + str(X_dev.shape))\n",
        "print (\"Y_dev shape: \" + str(y_dev.shape))\n",
        "print (\"X_test shape: \" + str(X_test.shape))\n",
        "print (\"Y_test shape: \" + str(y_test.shape))"
      ],
      "execution_count": 8,
      "outputs": [
        {
          "output_type": "stream",
          "name": "stdout",
          "text": [
            "number of training examples = 1179\n",
            "number of dev examples = 197\n",
            "number of test examples = 197\n",
            "X_train shape: (1179, 224, 224, 3)\n",
            "Y_train shape: (1179,)\n",
            "X_dev shape: (197, 224, 224, 3)\n",
            "Y_dev shape: (197,)\n",
            "X_test shape: (197, 224, 224, 3)\n",
            "Y_test shape: (197,)\n"
          ]
        }
      ]
    },
    {
      "cell_type": "code",
      "metadata": {
        "colab": {
          "base_uri": "https://localhost:8080/"
        },
        "id": "t6A-70QWBNBb",
        "outputId": "d2c46b76-0549-4075-c3f9-6933220aeeba"
      },
      "source": [
        "from keras.applications.vgg16 import VGG16\n",
        "base_model = VGG16(weights='imagenet')\n",
        "model = tf.keras.models.Sequential()\n",
        "model.add(base_model)\n",
        "model.add(tf.keras.layers.Flatten())\n",
        "model.add(tf.keras.layers.Dropout(0.5))\n",
        "model.add(tf.keras.layers.Dense(1, activation='sigmoid'))\n",
        "model.layers[0].trainable = False\n",
        "\n",
        "model.compile(optimizer='adam',\n",
        "              loss=tf.keras.losses.BinaryCrossentropy(from_logits=True),\n",
        "              metrics=['accuracy'])\n",
        "\n",
        "model.summary()"
      ],
      "execution_count": 7,
      "outputs": [
        {
          "output_type": "stream",
          "name": "stdout",
          "text": [
            "Model: \"sequential_3\"\n",
            "_________________________________________________________________\n",
            "Layer (type)                 Output Shape              Param #   \n",
            "=================================================================\n",
            "vgg16 (Functional)           (None, 1000)              138357544 \n",
            "_________________________________________________________________\n",
            "flatten_2 (Flatten)          (None, 1000)              0         \n",
            "_________________________________________________________________\n",
            "dropout_2 (Dropout)          (None, 1000)              0         \n",
            "_________________________________________________________________\n",
            "dense_2 (Dense)              (None, 1)                 1001      \n",
            "=================================================================\n",
            "Total params: 138,358,545\n",
            "Trainable params: 1,001\n",
            "Non-trainable params: 138,357,544\n",
            "_________________________________________________________________\n"
          ]
        }
      ]
    },
    {
      "cell_type": "code",
      "metadata": {
        "colab": {
          "base_uri": "https://localhost:8080/"
        },
        "id": "q77KoNieBTNB",
        "outputId": "92cc56b0-7200-4f08-f49b-4e7baf5bfbfe"
      },
      "source": [
        "EPOCHS = 25\n",
        "# early_stopping = tf.keras.callbacks.EarlyStopping(\n",
        "#     monitor='val_accuracy',\n",
        "#     mode='max',\n",
        "#     patience=6\n",
        "# )\n",
        "\n",
        "history = model.fit(\n",
        "    X_train,\n",
        "    y_train,\n",
        "    epochs=20,\n",
        "    validation_data=(X_dev, y_dev),\n",
        ")\n",
        "\n",
        "# history = model.fit_generator(\n",
        "#     train_generator,\n",
        "#     steps_per_epoch=50,\n",
        "#     epochs=EPOCHS,\n",
        "#     validation_data=validation_generator,\n",
        "#     validation_steps=25,\n",
        "#     callbacks=[early_stopping]\n",
        "# )"
      ],
      "execution_count": null,
      "outputs": [
        {
          "output_type": "stream",
          "name": "stdout",
          "text": [
            "Epoch 1/20\n",
            "37/37 [==============================] - 569s 15s/step - loss: 0.6905 - accuracy: 0.5776 - val_loss: 0.6854 - val_accuracy: 0.6345\n",
            "Epoch 2/20\n",
            "37/37 [==============================] - 562s 15s/step - loss: 0.6874 - accuracy: 0.5827 - val_loss: 0.6811 - val_accuracy: 0.6345\n",
            "Epoch 3/20\n",
            "32/37 [========================>.....] - ETA: 1:03 - loss: 0.6845 - accuracy: 0.5879"
          ]
        }
      ]
    }
  ]
}