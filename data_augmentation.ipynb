{
 "cells": [
  {
   "cell_type": "code",
   "execution_count": 1,
   "id": "421e21a1",
   "metadata": {},
   "outputs": [],
   "source": [
    "import pandas as pd\n",
    "import nltk\n",
    "import numpy as np"
   ]
  },
  {
   "cell_type": "code",
   "execution_count": 12,
   "id": "5bd80394",
   "metadata": {},
   "outputs": [],
   "source": [
    "df=pd.read_csv('summer-products-with-rating-and-performance_2020-08.csv')"
   ]
  },
  {
   "cell_type": "code",
   "execution_count": 13,
   "id": "ddea22b4",
   "metadata": {},
   "outputs": [],
   "source": [
    "label = [1 if sales > 100 else 0 for sales in df[\"units_sold\"]]\n",
    "df['high_sale'] = label"
   ]
  },
  {
   "cell_type": "code",
   "execution_count": 18,
   "id": "23d50f4e",
   "metadata": {},
   "outputs": [],
   "source": [
    "df_new = df[['high_sale', 'title_orig']]"
   ]
  },
  {
   "cell_type": "code",
   "execution_count": 19,
   "id": "f22b646e",
   "metadata": {},
   "outputs": [
    {
     "data": {
      "text/html": [
       "<div>\n",
       "<style scoped>\n",
       "    .dataframe tbody tr th:only-of-type {\n",
       "        vertical-align: middle;\n",
       "    }\n",
       "\n",
       "    .dataframe tbody tr th {\n",
       "        vertical-align: top;\n",
       "    }\n",
       "\n",
       "    .dataframe thead th {\n",
       "        text-align: right;\n",
       "    }\n",
       "</style>\n",
       "<table border=\"1\" class=\"dataframe\">\n",
       "  <thead>\n",
       "    <tr style=\"text-align: right;\">\n",
       "      <th></th>\n",
       "      <th>high_sale</th>\n",
       "      <th>title_orig</th>\n",
       "    </tr>\n",
       "  </thead>\n",
       "  <tbody>\n",
       "    <tr>\n",
       "      <th>0</th>\n",
       "      <td>0</td>\n",
       "      <td>2020 Summer Vintage Flamingo Print  Pajamas Se...</td>\n",
       "    </tr>\n",
       "    <tr>\n",
       "      <th>1</th>\n",
       "      <td>1</td>\n",
       "      <td>Women's Casual Summer Sleeveless Sexy Mini Dress</td>\n",
       "    </tr>\n",
       "    <tr>\n",
       "      <th>2</th>\n",
       "      <td>0</td>\n",
       "      <td>2020 New Arrival Women Spring and Summer Beach...</td>\n",
       "    </tr>\n",
       "    <tr>\n",
       "      <th>3</th>\n",
       "      <td>1</td>\n",
       "      <td>Hot Summer Cool T Shirt for Women Fashion Tops...</td>\n",
       "    </tr>\n",
       "    <tr>\n",
       "      <th>4</th>\n",
       "      <td>0</td>\n",
       "      <td>Women Summer Shorts Lace Up Elastic Waistband ...</td>\n",
       "    </tr>\n",
       "    <tr>\n",
       "      <th>...</th>\n",
       "      <td>...</td>\n",
       "      <td>...</td>\n",
       "    </tr>\n",
       "    <tr>\n",
       "      <th>1568</th>\n",
       "      <td>1</td>\n",
       "      <td>New Fashion Women Bohemia Dandelion Print Tee ...</td>\n",
       "    </tr>\n",
       "    <tr>\n",
       "      <th>1569</th>\n",
       "      <td>0</td>\n",
       "      <td>10 Color Women Summer Shorts Lace Up Elastic W...</td>\n",
       "    </tr>\n",
       "    <tr>\n",
       "      <th>1570</th>\n",
       "      <td>0</td>\n",
       "      <td>New Men Siwmwear Beach-Shorts Men Summer Quick...</td>\n",
       "    </tr>\n",
       "    <tr>\n",
       "      <th>1571</th>\n",
       "      <td>0</td>\n",
       "      <td>Fashion Women Summer Sleeveless Dresses V Neck...</td>\n",
       "    </tr>\n",
       "    <tr>\n",
       "      <th>1572</th>\n",
       "      <td>0</td>\n",
       "      <td>Fashion Women Yoga Pants Slim Fit Fitness Runn...</td>\n",
       "    </tr>\n",
       "  </tbody>\n",
       "</table>\n",
       "<p>1573 rows × 2 columns</p>\n",
       "</div>"
      ],
      "text/plain": [
       "      high_sale                                         title_orig\n",
       "0             0  2020 Summer Vintage Flamingo Print  Pajamas Se...\n",
       "1             1   Women's Casual Summer Sleeveless Sexy Mini Dress\n",
       "2             0  2020 New Arrival Women Spring and Summer Beach...\n",
       "3             1  Hot Summer Cool T Shirt for Women Fashion Tops...\n",
       "4             0  Women Summer Shorts Lace Up Elastic Waistband ...\n",
       "...         ...                                                ...\n",
       "1568          1  New Fashion Women Bohemia Dandelion Print Tee ...\n",
       "1569          0  10 Color Women Summer Shorts Lace Up Elastic W...\n",
       "1570          0  New Men Siwmwear Beach-Shorts Men Summer Quick...\n",
       "1571          0  Fashion Women Summer Sleeveless Dresses V Neck...\n",
       "1572          0  Fashion Women Yoga Pants Slim Fit Fitness Runn...\n",
       "\n",
       "[1573 rows x 2 columns]"
      ]
     },
     "execution_count": 19,
     "metadata": {},
     "output_type": "execute_result"
    }
   ],
   "source": [
    "df_new"
   ]
  },
  {
   "cell_type": "code",
   "execution_count": 23,
   "id": "099cf2cc",
   "metadata": {},
   "outputs": [],
   "source": [
    "np.savetxt(r'np.txt', df_new.values, fmt='%s', delimiter='\\t')"
   ]
  }
 ],
 "metadata": {
  "kernelspec": {
   "display_name": "Python (etsy)",
   "language": "python",
   "name": "etsy"
  },
  "language_info": {
   "codemirror_mode": {
    "name": "ipython",
    "version": 3
   },
   "file_extension": ".py",
   "mimetype": "text/x-python",
   "name": "python",
   "nbconvert_exporter": "python",
   "pygments_lexer": "ipython3",
   "version": "3.7.11"
  }
 },
 "nbformat": 4,
 "nbformat_minor": 5
}
